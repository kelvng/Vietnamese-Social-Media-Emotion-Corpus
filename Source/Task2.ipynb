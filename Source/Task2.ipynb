{
  "nbformat": 4,
  "nbformat_minor": 0,
  "metadata": {
    "accelerator": "GPU",
    "colab": {
      "name": "Task2 LSTM + Attention.ipynb",
      "provenance": [],
      "collapsed_sections": [],
      "toc_visible": true
    },
    "kernelspec": {
      "display_name": "Python 3",
      "language": "python",
      "name": "python3"
    },
    "language_info": {
      "codemirror_mode": {
        "name": "ipython",
        "version": 3
      },
      "file_extension": ".py",
      "mimetype": "text/x-python",
      "name": "python",
      "nbconvert_exporter": "python",
      "pygments_lexer": "ipython3",
      "version": "3.6.6"
    }
  },
  "cells": [
    {
      "cell_type": "markdown",
      "metadata": {
        "id": "bpZkvkuny0k6"
      },
      "source": [
        "#**LSTM + Attention**\n",
        "\n",
        "\n",
        "\n"
      ]
    },
    {
      "cell_type": "markdown",
      "metadata": {
        "id": "LeNTCKnKnN6R"
      },
      "source": [
        "# I.Import Library\n",
        "\n",
        "\n",
        "\n"
      ]
    },
    {
      "cell_type": "code",
      "metadata": {
        "id": "AN8rgbmrdKJP",
        "colab": {
          "base_uri": "https://localhost:8080/"
        },
        "outputId": "ff528ef4-d85a-41d3-d6a0-6bc0673b4716"
      },
      "source": [
        "\n",
        "%tensorflow_version 1.x\n",
        "!pip install keras==2.2.5\n",
        "!pip install pyvi\n",
        "\n",
        "import numpy as np\n",
        "from numpy import random\n",
        "import os, pickle, re, keras, sklearn, string\n",
        "from keras.callbacks import *\n",
        "from keras.preprocessing.text import Tokenizer\n",
        "from keras.preprocessing.sequence import pad_sequences\n",
        "from keras.models import load_model\n",
        "from pyvi import ViTokenizer, ViPosTagger\n",
        "from keras.layers import *\n",
        "from keras.models import Model\n",
        "from keras import optimizers\n",
        "import gensim, operator, json\n",
        "import pandas as pd\n",
        "from sklearn.metrics import *\n",
        "import keras.backend as K\n",
        "from keras.models import *\n",
        "from keras import initializers, regularizers\n",
        "from keras import optimizers\n",
        "from keras.engine.topology import Layer\n",
        "from keras import constraints"
      ],
      "execution_count": 1,
      "outputs": [
        {
          "output_type": "stream",
          "text": [
            "TensorFlow 1.x selected.\n",
            "Collecting keras==2.2.5\n",
            "  Using cached https://files.pythonhosted.org/packages/f8/ba/2d058dcf1b85b9c212cc58264c98a4a7dd92c989b798823cc5690d062bb2/Keras-2.2.5-py2.py3-none-any.whl\n",
            "Requirement already satisfied: numpy>=1.9.1 in /usr/local/lib/python3.7/dist-packages (from keras==2.2.5) (1.19.5)\n",
            "Requirement already satisfied: six>=1.9.0 in /usr/local/lib/python3.7/dist-packages (from keras==2.2.5) (1.15.0)\n",
            "Requirement already satisfied: scipy>=0.14 in /usr/local/lib/python3.7/dist-packages (from keras==2.2.5) (1.4.1)\n",
            "Requirement already satisfied: pyyaml in /usr/local/lib/python3.7/dist-packages (from keras==2.2.5) (3.13)\n",
            "Requirement already satisfied: keras-applications>=1.0.8 in /tensorflow-1.15.2/python3.7 (from keras==2.2.5) (1.0.8)\n",
            "Requirement already satisfied: keras-preprocessing>=1.1.0 in /usr/local/lib/python3.7/dist-packages (from keras==2.2.5) (1.1.2)\n",
            "Requirement already satisfied: h5py in /usr/local/lib/python3.7/dist-packages (from keras==2.2.5) (2.10.0)\n",
            "Installing collected packages: keras\n",
            "  Found existing installation: Keras 2.4.3\n",
            "    Uninstalling Keras-2.4.3:\n",
            "      Successfully uninstalled Keras-2.4.3\n",
            "Successfully installed keras-2.2.5\n",
            "Requirement already satisfied: pyvi in /usr/local/lib/python3.7/dist-packages (0.1)\n",
            "Requirement already satisfied: sklearn-crfsuite in /usr/local/lib/python3.7/dist-packages (from pyvi) (0.3.6)\n",
            "Requirement already satisfied: scikit-learn in /usr/local/lib/python3.7/dist-packages (from pyvi) (0.22.2.post1)\n",
            "Requirement already satisfied: tqdm>=2.0 in /usr/local/lib/python3.7/dist-packages (from sklearn-crfsuite->pyvi) (4.41.1)\n",
            "Requirement already satisfied: tabulate in /usr/local/lib/python3.7/dist-packages (from sklearn-crfsuite->pyvi) (0.8.9)\n",
            "Requirement already satisfied: six in /usr/local/lib/python3.7/dist-packages (from sklearn-crfsuite->pyvi) (1.15.0)\n",
            "Requirement already satisfied: python-crfsuite>=0.8.3 in /usr/local/lib/python3.7/dist-packages (from sklearn-crfsuite->pyvi) (0.9.7)\n",
            "Requirement already satisfied: joblib>=0.11 in /usr/local/lib/python3.7/dist-packages (from scikit-learn->pyvi) (1.0.1)\n",
            "Requirement already satisfied: numpy>=1.11.0 in /usr/local/lib/python3.7/dist-packages (from scikit-learn->pyvi) (1.19.5)\n",
            "Requirement already satisfied: scipy>=0.17.0 in /usr/local/lib/python3.7/dist-packages (from scikit-learn->pyvi) (1.4.1)\n"
          ],
          "name": "stdout"
        },
        {
          "output_type": "stream",
          "text": [
            "Using TensorFlow backend.\n"
          ],
          "name": "stderr"
        }
      ]
    },
    {
      "cell_type": "markdown",
      "metadata": {
        "id": "MqqjA5rmnXW9"
      },
      "source": [
        "# II.Read Data"
      ]
    },
    {
      "cell_type": "code",
      "metadata": {
        "id": "f_QyBjmaFumz",
        "colab": {
          "base_uri": "https://localhost:8080/"
        },
        "outputId": "ed314dd9-c76d-42fe-add0-5244c8662009"
      },
      "source": [
        "!wget https://thiaisotajppub.s3-ap-northeast-1.amazonaws.com/publicfiles/baomoi.model.bin"
      ],
      "execution_count": 2,
      "outputs": [
        {
          "output_type": "stream",
          "text": [
            "--2021-05-09 00:17:27--  https://thiaisotajppub.s3-ap-northeast-1.amazonaws.com/publicfiles/baomoi.model.bin\n",
            "Resolving thiaisotajppub.s3-ap-northeast-1.amazonaws.com (thiaisotajppub.s3-ap-northeast-1.amazonaws.com)... 52.219.8.47\n",
            "Connecting to thiaisotajppub.s3-ap-northeast-1.amazonaws.com (thiaisotajppub.s3-ap-northeast-1.amazonaws.com)|52.219.8.47|:443... connected.\n",
            "HTTP request sent, awaiting response... 200 OK\n",
            "Length: 708212586 (675M) [application/macbinary]\n",
            "Saving to: ‘baomoi.model.bin.1’\n",
            "\n",
            "baomoi.model.bin.1  100%[===================>] 675.40M  20.7MB/s    in 35s     \n",
            "\n",
            "2021-05-09 00:18:02 (19.5 MB/s) - ‘baomoi.model.bin.1’ saved [708212586/708212586]\n",
            "\n"
          ],
          "name": "stdout"
        }
      ]
    },
    {
      "cell_type": "code",
      "metadata": {
        "id": "3kNCSrXq192b",
        "colab": {
          "base_uri": "https://localhost:8080/"
        },
        "outputId": "5ca6aee5-1f3a-4735-a0cf-d4688487d23e"
      },
      "source": [
        "!wget https://github.com/nthanhkhang/Vietnamese-Social-Media-Emotion-Corpus/raw/main/Data/UIT-VSMEC.zip"
      ],
      "execution_count": 3,
      "outputs": [
        {
          "output_type": "stream",
          "text": [
            "--2021-05-09 00:18:02--  https://github.com/nthanhkhang/Vietnamese-Social-Media-Emotion-Corpus/raw/main/Data/UIT-VSMEC.zip\n",
            "Resolving github.com (github.com)... 140.82.113.3\n",
            "Connecting to github.com (github.com)|140.82.113.3|:443... connected.\n",
            "HTTP request sent, awaiting response... 302 Found\n",
            "Location: https://raw.githubusercontent.com/nthanhkhang/Vietnamese-Social-Media-Emotion-Corpus/main/Data/UIT-VSMEC.zip [following]\n",
            "--2021-05-09 00:18:02--  https://raw.githubusercontent.com/nthanhkhang/Vietnamese-Social-Media-Emotion-Corpus/main/Data/UIT-VSMEC.zip\n",
            "Resolving raw.githubusercontent.com (raw.githubusercontent.com)... 185.199.108.133, 185.199.110.133, 185.199.109.133, ...\n",
            "Connecting to raw.githubusercontent.com (raw.githubusercontent.com)|185.199.108.133|:443... connected.\n",
            "HTTP request sent, awaiting response... 200 OK\n",
            "Length: 231600 (226K) [application/zip]\n",
            "Saving to: ‘UIT-VSMEC.zip.1’\n",
            "\n",
            "\rUIT-VSMEC.zip.1       0%[                    ]       0  --.-KB/s               \rUIT-VSMEC.zip.1     100%[===================>] 226.17K  --.-KB/s    in 0.005s  \n",
            "\n",
            "2021-05-09 00:18:02 (43.0 MB/s) - ‘UIT-VSMEC.zip.1’ saved [231600/231600]\n",
            "\n"
          ],
          "name": "stdout"
        }
      ]
    },
    {
      "cell_type": "code",
      "metadata": {
        "id": "L6I-G2B7CwyA",
        "colab": {
          "base_uri": "https://localhost:8080/"
        },
        "outputId": "87928193-e23a-443f-fb33-c511b09e0af6"
      },
      "source": [
        "import zipfile\n",
        "with zipfile.ZipFile(\"UIT-VSMEC.zip\",\"r\") as zf:\n",
        "    zf.extractall()\n",
        "print(zf)"
      ],
      "execution_count": 4,
      "outputs": [
        {
          "output_type": "stream",
          "text": [
            "<zipfile.ZipFile [closed]>\n"
          ],
          "name": "stdout"
        }
      ]
    },
    {
      "cell_type": "code",
      "metadata": {
        "id": "Rp1-Qa_81FEY"
      },
      "source": [
        "path_train ='data/train_nor_811.csv'\n",
        "path_valid ='data/valid_nor_811.csv'\n",
        "path_test ='data/test_nor_811.csv'\n",
        "path_stopword = 'data/stopwords.txt'"
      ],
      "execution_count": 5,
      "outputs": []
    },
    {
      "cell_type": "markdown",
      "metadata": {
        "id": "U3JUFIaAndQo"
      },
      "source": [
        "# III.Word2vec using baomoi.model.bin\n",
        "\n",
        "*   Function reading pretrain word embedding library.\n",
        "*   The word embedding pretrain has been trained in new news, 300-way news\n",
        "\n"
      ]
    },
    {
      "cell_type": "code",
      "metadata": {
        "id": "Skg7lUZ9LYAn",
        "colab": {
          "base_uri": "https://localhost:8080/"
        },
        "outputId": "99a03701-efd5-4179-c859-3cd37c916b64"
      },
      "source": [
        "path_embedding= 'baomoi.model.bin'\n",
        "\n",
        "import io\n",
        "from gensim.models import KeyedVectors\n",
        "\n",
        "word_embedding = KeyedVectors.load_word2vec_format(path_embedding, binary=True)\n",
        "# Example of taking vector of 1 word in the word embedding pretrain\n",
        "EMBEDDING_DIM = word_embedding['yêu'].shape[0]\n",
        "print(\"Embedding: \",EMBEDDING_DIM)\n",
        "# Vector of love words in pretrained word embedding set.\n",
        "print(word_embedding['yêu'])\n"
      ],
      "execution_count": 6,
      "outputs": [
        {
          "output_type": "stream",
          "text": [
            "Embedding:  400\n",
            "[-0.78774583 -0.22327825 -0.6274532  -2.7228408  -2.2186291   0.38002455\n",
            "  3.8660462   0.9853684  -1.4683082  -1.7013292  -0.5839958  -0.14467287\n",
            "  3.600142    3.381808   -0.02930526  3.0047843  -0.2006207  -1.0937127\n",
            "  1.7360235   2.3691583  -0.71597415  3.319453    0.2824182  -3.0814204\n",
            "  2.6810844  -0.810977    1.5186927  -2.10329     1.3271075  -1.3646411\n",
            " -0.11144319 -4.6505136  -1.7251624  -2.31126     1.583203   -0.8746506\n",
            " -2.6937015  -1.7733976   0.557898   -1.7562917   1.3282276  -0.3805479\n",
            " -1.3979301  -0.1536707  -1.1909302   1.3283668   0.22275637 -2.7959821\n",
            " -5.188217   -0.6404673   0.0164395   0.67177856 -1.4948794   0.21867418\n",
            " -1.4103376   0.99262404  2.2180524  -0.4881204   3.0988753  -0.31382522\n",
            "  1.3226501   0.21269594 -1.6409203   1.7758838   2.3379912  -2.4666297\n",
            " -0.599687    0.551105   -1.3755493  -1.4293027  -2.6366289   0.40759587\n",
            " -0.77850854 -0.6169452  -0.84525913  0.02801617  2.1296268   0.13715844\n",
            " -1.1562283  -2.1226277  -0.1346792   0.88932824 -1.5711976   0.36148685\n",
            "  2.2572796  -2.0762215   1.736077   -0.3133224   0.48849696  2.1262195\n",
            " -2.3417432   0.7264937   1.3197432  -1.0578146   1.9603167  -1.957219\n",
            " -0.47556064 -3.2944543  -1.540249    1.6060241   0.02990843 -1.0645736\n",
            " -0.5550473   1.589397   -0.5811684  -1.2199221  -0.9025384  -1.2436662\n",
            "  0.50163126  0.11698119  0.8760743   0.8978141  -1.8893797  -0.1424527\n",
            " -3.0423136  -0.88489795  0.49000955 -3.4689097  -1.8564429  -0.66697997\n",
            "  5.3912683  -2.092744   -0.5973023  -0.7118058  -1.0953093   0.4417508\n",
            "  2.440871    1.1271865   1.4602836  -2.714987   -1.3927895  -0.16143057\n",
            "  0.07596377 -2.0885456  -1.0929846  -1.1670731   0.7352281  -1.0726835\n",
            "  0.4963534  -0.78458273  2.3078787  -3.5055773   0.9567256  -0.5207236\n",
            "  0.36697528  0.8511779   0.878965    1.3028007   0.04724613  0.9892602\n",
            " -0.8373782   0.27926713  2.268885   -0.11917569  0.8163163   0.3869213\n",
            "  0.20561185 -2.2969527  -1.6468542  -3.9922614  -0.96281457  3.2537632\n",
            "  0.48358652 -0.6078726   3.2632709   0.11489751 -2.6600893   0.92677915\n",
            " -0.528953    3.4760187   2.31958     2.23189     2.2253554  -1.8307585\n",
            " -1.7324418  -1.2364737  -4.273679    0.9341229   0.59669524 -0.03376843\n",
            " -2.971719    1.9712305  -0.549242    0.4829846   1.4618144  -1.3703161\n",
            " -1.1212839   0.4291749   1.4675773  -0.67144257 -0.49444234  1.7652586\n",
            "  1.7143794   0.54265493  2.1978571   3.2426474  -2.7528286  -2.2640996\n",
            "  0.09805597  1.2702079   1.156494   -1.1671641  -2.3361897   1.2424865\n",
            " -2.1413488  -0.22989413 -2.7570245  -1.2689328  -0.11422111  0.340871\n",
            " -0.72356385 -3.100242   -0.2113436   0.08352826  3.0843058   0.2549431\n",
            "  3.6576512  -0.71284246 -1.8232595  -1.0566906  -0.7372802   0.18872899\n",
            "  0.11927979  3.0378866   0.7687284   0.7458194   3.392024   -0.10601766\n",
            "  1.7550762  -3.9328496   0.5543825   2.4240685   2.4877627  -1.8583341\n",
            " -2.7361338   0.9327119   1.4136555   0.6736002  -0.56006515 -0.17299697\n",
            "  2.3964696   1.4890865   0.47563386 -1.7579868  -3.2750478  -2.711356\n",
            "  1.1631078   0.5226146  -0.77252626  2.0378802  -2.1662908   1.1695647\n",
            "  1.0302314   1.2815226   1.8774925   1.0482382  -2.829525   -1.3818443\n",
            "  1.0274167  -0.61302423  0.24060939 -2.8208141   1.2254591  -1.9544963\n",
            "  1.7342434  -0.9264713   0.39906958  1.4076114   0.68284744  2.4939642\n",
            "  2.1315014   0.20849855 -1.4851028   4.6376705   2.2327776   2.2943447\n",
            " -1.253777   -2.385657   -2.5678577  -1.7067193   2.387362   -1.3572613\n",
            " -4.5016227   0.7827232  -0.44352373  0.3998332  -0.5178318   0.6794015\n",
            "  3.7974224  -0.774167   -1.1981938   0.3985697  -1.8760519   0.1238703\n",
            "  0.05213618 -1.1321199  -2.8599005  -1.7278007   2.1998515  -2.5468414\n",
            "  0.9428754   0.992005   -2.7554674  -1.364683   -0.8704408  -1.1697435\n",
            "  1.880865    1.9564949   3.1174672   0.14133504 -2.2360458  -1.173718\n",
            "  1.3261789  -2.2110426   0.589773    3.4267988   3.2046275  -0.91721445\n",
            "  0.7951813  -2.3174386  -0.8497346   1.6120318  -0.40876418  0.7933062\n",
            " -0.8393237  -0.41007656  2.8945262   0.993892   -1.7588191  -4.925732\n",
            " -2.4419074   3.0766954  -1.9000514  -2.0604458   3.4133394  -2.0102491\n",
            "  2.046963    0.71078193  2.2965722   1.72548     1.2269657  -2.2357993\n",
            "  0.50008225  4.8475957  -1.0541344   2.308317   -1.1630418   1.1258802\n",
            " -1.2478187   1.0942221   0.92810786 -1.5838045  -2.0654778  -0.28107494\n",
            "  2.4073355   1.3492072   0.48608387 -0.4716219   2.1616933  -1.3125483\n",
            "  1.5123384  -4.5521007  -1.8622614   1.088746    1.6043898  -4.609651\n",
            " -0.4500263   1.9802842   1.9102592  -0.47483805 -4.2590923   1.1523023\n",
            "  0.9832213   1.9767743   3.2593958   0.41252086  0.37052628  0.5532108\n",
            " -0.44213554  1.3767333  -0.8914752  -4.444391   -1.9290444  -1.6292545\n",
            " -2.6812217  -1.0284953   0.0313996   4.0027394   0.6476944  -0.02785059\n",
            " -2.4854484  -0.82289666  1.3539648   3.0980484  -1.3214976  -1.5370079\n",
            "  0.96148336  0.1992502   3.5529153   2.4300497 ]\n"
          ],
          "name": "stdout"
        }
      ]
    },
    {
      "cell_type": "markdown",
      "metadata": {
        "id": "lo7k112MoVAQ"
      },
      "source": [
        "# IV. Data Preprocessing"
      ]
    },
    {
      "cell_type": "markdown",
      "metadata": {
        "id": "p5Gb-4LVo1bf"
      },
      "source": [
        "## 1.Tokenizer"
      ]
    },
    {
      "cell_type": "code",
      "metadata": {
        "id": "MWTniSb1o0d9"
      },
      "source": [
        "def tokenizer(text):\n",
        "    token = ViTokenizer.tokenize(text)\n",
        "    return token"
      ],
      "execution_count": 7,
      "outputs": []
    },
    {
      "cell_type": "markdown",
      "metadata": {
        "id": "lsAfz-Kco86j"
      },
      "source": [
        "## 2.Delete Icon"
      ]
    },
    {
      "cell_type": "code",
      "metadata": {
        "id": "VCchYWSMo9y5"
      },
      "source": [
        "def deleteIcon(text):\n",
        "    text = text.lower()\n",
        "    s = ''\n",
        "    pattern = r\"[a-zA-ZaăâbcdđeêghiklmnoôơpqrstuưvxyàằầbcdđèềghìklmnòồờpqrstùừvxỳáắấbcdđéếghíklmnóốớpqrstúứvxýảẳẩbcdđẻểghỉklmnỏổởpqrstủửvxỷạặậbcdđẹệghịklmnọộợpqrstụựvxỵãẵẫbcdđẽễghĩklmnõỗỡpqrstũữvxỹAĂÂBCDĐEÊGHIKLMNOÔƠPQRSTUƯVXYÀẰẦBCDĐÈỀGHÌKLMNÒỒỜPQRSTÙỪVXỲÁẮẤBCDĐÉẾGHÍKLMNÓỐỚPQRSTÚỨVXÝẠẶẬBCDĐẸỆGHỊKLMNỌỘỢPQRSTỤỰVXỴẢẲẨBCDĐẺỂGHỈKLMNỎỔỞPQRSTỦỬVXỶÃẴẪBCDĐẼỄGHĨKLMNÕỖỠPQRSTŨỮVXỸ,._]\"\n",
        "    for char in text:\n",
        "        if char !=' ':\n",
        "            if len(re.findall(pattern, char)) != 0:\n",
        "                s+=char\n",
        "            elif char == '_':\n",
        "                s+=char\n",
        "        else:\n",
        "            s+=char\n",
        "    s = re.sub('\\\\s+',' ',s)\n",
        "    return s.strip()"
      ],
      "execution_count": 8,
      "outputs": []
    },
    {
      "cell_type": "markdown",
      "metadata": {
        "id": "Y5xJDr9epIEJ"
      },
      "source": [
        "## 3.Clean Doc"
      ]
    },
    {
      "cell_type": "code",
      "metadata": {
        "id": "L1_TFsm9WdA0"
      },
      "source": [
        "def clean_doc(doc):\n",
        "    doc = tokenizer(doc)\n",
        "    for punc in string.punctuation:# delete all punctuation (!,? ..) in a sentence\n",
        "        if punc != \"_\":\n",
        "            doc = doc.replace(punc,' ')\n",
        "    doc = deleteIcon(doc) \n",
        "    doc = re.sub(r\"[0-9]+\", \" num \", doc)# Delete numbers\n",
        "    doc = doc.lower()#lowercase \n",
        "    doc = re.sub('\\\\s+',' ',doc)# Remove lots of spaces\n",
        "    return doc"
      ],
      "execution_count": 9,
      "outputs": []
    },
    {
      "cell_type": "markdown",
      "metadata": {
        "id": "IJlgGwaxudQc"
      },
      "source": [
        "## 4.Stopword"
      ]
    },
    {
      "cell_type": "code",
      "metadata": {
        "id": "hPeiHFV2vRMY"
      },
      "source": [
        "# from underthesea import word_tokenize\n",
        "def pre_process(questions):\n",
        "    stop_words = stopwords.words(\"english\")\n",
        "    questions_stop = [[t for t in tokens if (t not in stop_words) and (3 < len(t.strip()) < 15)]\n",
        "                      for tokens in questions_tokens]\n",
        "    questions_stop = pd.Series(questions_stop)\n",
        "    return questions_stop"
      ],
      "execution_count": 10,
      "outputs": []
    },
    {
      "cell_type": "markdown",
      "metadata": {
        "id": "tpylx70bxTGD"
      },
      "source": [
        "## 5.Word Segmentation"
      ]
    },
    {
      "cell_type": "markdown",
      "metadata": {
        "id": "UmCkYJpypwlS"
      },
      "source": [
        "# V.Train/Test data"
      ]
    },
    {
      "cell_type": "code",
      "metadata": {
        "id": "Usy-4ygPWdA2"
      },
      "source": [
        "train_data = pd.read_csv(path_train)\n",
        "valid_data = pd.read_csv(path_valid)\n",
        "test_data = pd.read_csv(path_test)\n",
        "\n",
        "X_train = train_data[\"Sentence\"].apply(lambda x : clean_doc(x))\n",
        "y_train = train_data[\"Emotion\"]\n",
        "\n",
        "X_val = valid_data[\"Sentence\"].apply(lambda x : clean_doc(x))\n",
        "y_val = valid_data[\"Emotion\"]\n",
        "\n",
        "X_test = test_data[\"Sentence\"].apply(lambda x : clean_doc(x))\n",
        "y_test = test_data[\"Emotion\"]"
      ],
      "execution_count": 11,
      "outputs": []
    },
    {
      "cell_type": "code",
      "metadata": {
        "id": "GnYcGTbL0jnu",
        "colab": {
          "base_uri": "https://localhost:8080/"
        },
        "outputId": "8d2cefa7-09f8-4dd5-800f-f8d5ed80dd18"
      },
      "source": [
        "print(len(X_train),len(y_train))\n",
        "print(len(X_val),len(y_val))\n",
        "print(len(X_test),len(y_test))\n"
      ],
      "execution_count": 12,
      "outputs": [
        {
          "output_type": "stream",
          "text": [
            "5548 5548\n",
            "686 686\n",
            "693 693\n"
          ],
          "name": "stdout"
        }
      ]
    },
    {
      "cell_type": "markdown",
      "metadata": {
        "id": "CyPnd4f4qDSJ"
      },
      "source": [
        "## 1.Catalog vector"
      ]
    },
    {
      "cell_type": "code",
      "metadata": {
        "id": "fyIQeZi-WdA4"
      },
      "source": [
        "classes = ['Anger','Disgust','Enjoyment','Fear','Other','Sadness','Surprise']\n",
        "def to_category_vector(label):\n",
        "    vector = np.zeros(len(classes)).astype(np.float64)\n",
        "    index = classes.index(label)\n",
        "    vector[index] = 1.0\n",
        "    return vector"
      ],
      "execution_count": 13,
      "outputs": []
    },
    {
      "cell_type": "markdown",
      "metadata": {
        "id": "5ppniGtjqfhg"
      },
      "source": [
        "## 2.Convert labels to numbers in train and test practice"
      ]
    },
    {
      "cell_type": "code",
      "metadata": {
        "id": "fqYyTPmLWdA_",
        "colab": {
          "base_uri": "https://localhost:8080/"
        },
        "outputId": "618d81c0-953d-4e5f-a47e-0a3c506faedd"
      },
      "source": [
        "y_train_encode = []\n",
        "for label in y_train:\n",
        "    y_train_encode.append(to_category_vector(label))\n",
        "\n",
        "\n",
        "y_val_encode = []\n",
        "for label in y_val:\n",
        "    y_val_encode.append(to_category_vector(label))\n",
        "\n",
        "print(classes)\n",
        "print(y_train_encode[0])\n",
        "print(y_train[0])"
      ],
      "execution_count": 14,
      "outputs": [
        {
          "output_type": "stream",
          "text": [
            "['Anger', 'Disgust', 'Enjoyment', 'Fear', 'Other', 'Sadness', 'Surprise']\n",
            "[0. 0. 0. 0. 1. 0. 0.]\n",
            "Other\n"
          ],
          "name": "stdout"
        }
      ]
    },
    {
      "cell_type": "markdown",
      "metadata": {
        "id": "hK6nyuqOq171"
      },
      "source": [
        "## 3.LSTM\n",
        "\n",
        "\n",
        "*   All the words in the X_train set will form a dictionary\n",
        "*   Each vector of the input word, it will turn into a vector with a fixed number of dimensions and each vocabulary will be replaced by its index in the dictionary\n",
        "* Number of vector dimensions per input we will take the longest sentence which is the direction of the vector and the shorter arcs will automatically add the value 0 after"
      ]
    },
    {
      "cell_type": "code",
      "metadata": {
        "id": "0EB_NYPlWdBC",
        "colab": {
          "base_uri": "https://localhost:8080/"
        },
        "outputId": "42e5735e-a7bf-438f-faf0-1bae69cfcf47"
      },
      "source": [
        "xLengths = [len(x.split(' ')) for x in X_train]\n",
        "h = sorted(xLengths)  #sorted lengths\n",
        "maxLength =h[len(h)-1]\n",
        "print(\"The longest sentence length value: \",maxLength)\n",
        "input_tokenizer = Tokenizer(filters=\"\",oov_token=\"UNK\")\n",
        "input_tokenizer.fit_on_texts(X_train)\n",
        "input_vocab_size = len(input_tokenizer.word_index) + 1\n",
        "word_index = input_tokenizer.word_index\n",
        "print(\"input_vocab_size:\",input_vocab_size)\n",
        "X_train_encode = np.array(pad_sequences(input_tokenizer.texts_to_sequences(X_train), maxlen=maxLength,padding=\"post\"))"
      ],
      "execution_count": 15,
      "outputs": [
        {
          "output_type": "stream",
          "text": [
            "The longest sentence length value:  134\n",
            "input_vocab_size: 6135\n"
          ],
          "name": "stdout"
        }
      ]
    },
    {
      "cell_type": "markdown",
      "metadata": {
        "id": "rA3sXud4rkcS"
      },
      "source": [
        "## 4.Enter the example using LSTM"
      ]
    },
    {
      "cell_type": "code",
      "metadata": {
        "id": "KxIekrnfrfBg",
        "colab": {
          "base_uri": "https://localhost:8080/"
        },
        "outputId": "d9588791-6412-4178-81ff-addb573dc7aa"
      },
      "source": [
        "print(\"Input String : \", X_train[0])\n",
        "print(\"Encode : \",X_train_encode[0])\n",
        "\n",
        "X_val_encode = np.array(pad_sequences(input_tokenizer.texts_to_sequences(X_val), maxlen=maxLength,padding=\"post\"))"
      ],
      "execution_count": 16,
      "outputs": [
        {
          "output_type": "stream",
          "text": [
            "Input String :  cho mình xin bài nhạc tên là gì với ạ\n",
            "Encode :  [ 13  23 292 166 417 372   4  17  47 182   0   0   0   0   0   0   0   0\n",
            "   0   0   0   0   0   0   0   0   0   0   0   0   0   0   0   0   0   0\n",
            "   0   0   0   0   0   0   0   0   0   0   0   0   0   0   0   0   0   0\n",
            "   0   0   0   0   0   0   0   0   0   0   0   0   0   0   0   0   0   0\n",
            "   0   0   0   0   0   0   0   0   0   0   0   0   0   0   0   0   0   0\n",
            "   0   0   0   0   0   0   0   0   0   0   0   0   0   0   0   0   0   0\n",
            "   0   0   0   0   0   0   0   0   0   0   0   0   0   0   0   0   0   0\n",
            "   0   0   0   0   0   0   0   0]\n"
          ],
          "name": "stdout"
        }
      ]
    },
    {
      "cell_type": "markdown",
      "metadata": {
        "id": "TzqNhkCQr7gr"
      },
      "source": [
        "## 5.Generate Embedding\n",
        "Function takes the vector of vocabulary in pre-trained word embedding"
      ]
    },
    {
      "cell_type": "code",
      "metadata": {
        "id": "Td-ML6bqWdBE"
      },
      "source": [
        "def generate_embedding(word_index, model_embedding,EMBEDDING_DIM):\n",
        "    count6 = 0\n",
        "    countNot6 = 0\n",
        "    #embedding_matrix = np.zeros((len(word_index) + 1, EMBEDDING_DIM)) \n",
        "    embedding_matrix = np.asarray([np.random.uniform(-0.01,0.01,EMBEDDING_DIM) for _ in range((len(word_index) + 1))])\n",
        "    list_oov = []\n",
        "    word_is_trained = []\n",
        "    for word, i in word_index.items():\n",
        "        try:\n",
        "            embedding_vector = model_embedding[word]\n",
        "            word_is_trained.append(word)\n",
        "        except:\n",
        "            continue\n",
        "        if embedding_vector is not None:\n",
        "            count6 +=1\n",
        "            embedding_matrix[i] = embedding_vector\n",
        "    \n",
        "    print('Number of words in pre-train embedding: ' + str(count6))\n",
        "    print('Number of words not in pre-train embedding: ' + str(countNot6))\n",
        "    return embedding_matrix,word_is_trained"
      ],
      "execution_count": 17,
      "outputs": []
    },
    {
      "cell_type": "code",
      "metadata": {
        "id": "HRIghLqMBuhV",
        "colab": {
          "base_uri": "https://localhost:8080/"
        },
        "outputId": "efc345e7-a803-4dec-a7be-10f19900aae0"
      },
      "source": [
        "embedding_matrix,word_is_trained = generate_embedding(word_index,word_embedding,EMBEDDING_DIM)\n",
        "print(word_is_trained)"
      ],
      "execution_count": 18,
      "outputs": [
        {
          "output_type": "stream",
          "text": [
            "Number of words in pre-train embedding: 5647\n",
            "Number of words not in pre-train embedding: 0\n",
            "['không', 'tao', 'là', 'có', 'mà', 'này', 'nó', 'đi', 'thì', 'rồi', 'cái', 'cho', 'per', 'được', 'cũng', 'gì', 'con', 'quá', 'người', 'lại', 'như', 'mình', 'làm', 'còn', 'của', 'mày', 'ra', 'thấy', 'phải', 'mấy', 'vãi', 'thôi', 'em', 'nào', 'và', 'đó', 'anh', 'để', 'luôn', 'đã', 'thế', 'chứ', 'nhìn', 'đéo', 'hay', 'với', 'bạn', 'biết', 'bị', 'sao', 'nhưng', 'cả', 'thằng', 'chỉ', 'thật', 'đâu', 'xem', 'ai', 'mới', 'nhà', 'nữa', 'vậy', 'khi', 'mẹ', 'nói', 'vào', 'lắm', 'ăn', 'lên', 'sợ', 'về', 'vẫn', 'đến', 'một', 'chưa', 'nhiều', 'lần', 'hết', 'ở', 'hơn', 'yêu', 'năm', 'sẽ', 'ngày', 'tôi', 'muốn', 'đấy', 'nên', 'các', 'xong', 'phim', 'trong', 'cười', 'đây', 'những', 'vì', 'cứ', 'đúng', 'đứa', 'nhỉ', 'ông', 'thích', 'giờ', 'lúc', 'mặt', 'nhau', 'ấy', 'nhớ', 'à', 'tiền', 'đáng', 'nhất', 'chắc', 'gặp', 'đang', 'nhé', 'từ', 'học', 'bọn', 'mất', 'đừng', 'nghe', 'chó', 'chết', 'rất', 'khác', 'bố', 'buồn', 'sau', 'bà', 'v', 'cần', 'đẹp', 'kiểu', 'trước', 'vừa', 'bé', 'xe', 'mua', 'toàn', 'ngu', 'qua', 'đầu', 'nghĩ', 'chạy', 'tới', 'lấy', 'vợ', 'chả', 'mỗi', 'chơi', 'coi', 'hồi', 'đời', 'hiểu', 'người_yêu', 'đường', 'tốt', 'bao_giờ', 'nhỏ', 'lol', 'họ', 'bài', 'ngồi', 'giống', 'thứ', 't', 'vui', 'bỏ', 'chị', 'kia', 'nay', 'lũ', 'đọc', 'nè', 'gái', 'cô', 'bán', 'ạ', 'ơi', 'video', 'trời', 'lớp', 'hỏi', 'bắt', 'khóc', 'nuôi', 'ghê', 'tin', 'nếu', 'má', 'bằng', 'chửi', 'ta', 'bảo', 'có_thể', 'sai', 'tay', 'mọi', 'chuyện', 'đỗ', 'sống', 'quay', 'huhu', 'cơm', 'haha', 'thương', 'câu', 'tội', 'từng', 'đau', 'trên', 'lòng', 'ngay', 'cưng', 'bộ', 'gọi', 'dễ_thương', 'nấu', 'nha', 'nước', 'theo', 'xuống', 'thêm', 'thế_nào', 'chỗ', 'con_trai', 'bác', 'bên', 'hạnh_phúc', 'cùng', 'tình_yêu', 'phát', 'lớn', 'cây', 'con_gái', 'đánh', 'nam', 'mong', 'phạt', 'con_mẹ', 'hôm', 'ngủ', 'tưởng', 'đồ', 'quan_trọng', 'mắt', 'đm', 'ngày_xưa', 'dí', 'nói_chuyện', 'chúng_mày', 'ý', 'cắt', 'cao', 'quả', 'c', 'tiếng', 'chân', 'ba', 'thời', 'chán', 'việc', 'câu_chuyện', 'chẳng', 'ngáo', 'bây_giờ', 'tụi', 'cuối', 'cách', 'giận', 'hả', 'chúng_nó', 'đoạn', 'tháng', 'sự', 'việt', 'nhanh', 'như_vậy', 'đủ', 'tóc', 'dám', 'trai', 'nhận', 'nổi', 'lâu', 'phòng', 'xin', 'trẻ', 'mèo', 'mưa', 'xinh', 'gần', 'ngoài', 'cụ', 'ngỗng', 'ghét', 'càng', 'vô', 'k', 'crush', 'não', 'nhện', 'đồng_nghiệp', 'bếp', 'bình_luận', 'chụp', 'chồng', 'giết', 'dân', 'loại', 'gia_đình', 'hãy', 'điều', 'ma', 'mệt', 'tự', 'vài', 'ý_thức', 'ngon', 'khó', 'kết', 'chuẩn', 'đều', 'thiệt', 'tuổi', 'chịu', 'tr', 'viết', 'tính', 'khổ', 'bao_nhiêu', 'n', 'tuổi_thơ', 'chi', 'già', 'dọn', 'hai', 'xấu', 'cuộc_sống', 'ôi', 'chủ', 'kêu', 'đứng', 'thi', 'mồm', 'hàng', 'dù', 'cảm_giác', 'á', 'xem_lại', 'tìm', 'dùng', 'thế_là', 'to', 'chúng_ta', 'thế_giới', 'ảnh', 'tình', 'nhảy', 'mắc', 'tất_cả', 'tiếc', 'trông', 'nơi', 'mai', 'hơi', 'tên', 'quen', 'bánh', 'điên', 'ý_nghĩa', 'kkk', 'sấp_mặt', 'đưa', 'sớm', 'cắn', 'quan_tâm', 'mãi', 'thành', 'không_thể', 'kể', 'đăng', 'dễ', 'tí', 'giọng', 'cảm_thấy', 'vàng', 'đỡ', 'thề', 'hãm', 'quên', 'tù', 'giỏi', 'dậy', 'tập', 'mất_dạy', 'quần', 'nguy_hiểm', 'nỗi', 'lo', 'thịt', 'ông_bà', 'chính', 'mang', 'con_người', 'may', 'sang', 'đổ', 'chúc', 'trả', 'chia_tay', 'nhạc', 'công_nhận', 'chọn', 'đẹp_trai', 'đem', 'cơ', 'cảm_ơn', 'lông', 'nằm', 'xa', 'đuổi', 'đàn_ông', 'điện', 'tim', 'cảnh', 'móng', 'bình_thường', 'ỉa', 'trường', 'ám_ảnh', 'cuộc_đời', 'cháu', 'dài', 'ước', 'lun', 'khỏi', 'quán', 'cấp', 'tại', 'chú', 'tại_sao', 'sáng', 'dạy', 'bữa', 'buồn_cười', 'y', 'cậu', 'mặc', 'bẩn', 'dưới', 'chút', 'do', 'nước_mắt', 'bản_thân', 'lời', 'hiền', 'suốt', 'đập', 'bố_mẹ', 'nhờ', 'vị', 'đau_lòng', 'chờ', 'la', 'cầm', 'xã_hội', 'thử', 'đợi', 'sau_này', 'đùa', 'rớt', 'cha', 'làm_sao', 'phí', 'điện_thoại', 'tối', 'quỳ', 'uống', 'cầu', 'kìa', 'đôi', 'trâu', 'cuối_cùng', 'ủa', 'ko', 'dầu', 'ảo_tưởng', 'lỡ', 'cấm', 'bệnh', 'ít', 'chị_em', 'ác', 'diễn', 'xưa', 'vậy_mà', 'đen', 'đá', 'thanh_niên', 'ngang', 'hàng_xóm', 'chất', 'vụ', 'thớt', 'hôm_nay', 'trung_thu', 'dm', 'khá', 'đốt', 'tàu', 'thời_gian', 'trừ', 'triệu', 'đóng', 'hẳn', 'thật_sự', 'thả', 'rơi', 'phê', 'tai', 'chung', 'lợn', 'hình_như', 'gym', 'bao', 'sinh', 'bay', 'thiếu', 'bất_hạnh', 'bây', 'giúp', 'kiếm', 'cố', 'cực', 'ôm', 'niềm', 'tuần', 'ah', 'quyền', 'tuyệt_vời', 'công', 'học_sinh', 'hát', 'ế', 'ổng', 'đất_nước', 'giữ', 'cưới', 'vẽ', 'ngắn', 'áo', 'đất', 'sắp', 'thua', 'chục', 'chữ', 'hoặc', 'thân', 'điểm', 'ơ', 'đòi', 'thay', 'béo', 'ngọt', 'tâm', 'đêm', 'đầy', 'boss', 'gà', 'chủ_tịch', 'té', 'khốn_nạn', 'kiếp', 'hihi', 'tớ', 'hành_động', 'đặt', 'bàn', 'đậu', 'đông', 'hình', 'chiều', 'nhá', 'gấu', 'cạnh', 'kinh', 'xin_lỗi', 'tầm', 'thèm', 'vui_vẻ', 'óc', 'cơ_mà', 'mạnh', 'sông', 'làm_việc', 'i', 'tạo', 'trăm', 'thấp', 'cứng', 'nghề', 'đẻ', 'yêu_thương', 'nhắn_tin', 'khách', 'trượt', 'cổ', 'giả', 'độ', 'rút', 'nóng', 'nhẹ', 'đơn_giản', 'tết', 'quê', 'chia', 'may_mắn', 'gửi', 'lương', 'phết', 'tài', 'cha_mẹ', 'tây', 'sữa', 'tán', 'giàu', 'thu', 'tỏ', 'cay', 'nhạt', 'tặng', 'liền', 'tuy', 'yên', 'hoa', 'răng', 'nữ', 'nghỉ', 'khúc', 'hài', 'kiến', 'giá', 'rượt', 'gây', 'lạ', 'bớt', 'cháy', 'kém', 'biển', 'dăm_ba', 'ngã', 'số', 'ngành', 'thầy', 'admin', 'bồ', 'định', 'dừng', 'nguyên', 'cố_gắng', 'tỉnh', 'mụ', 'cẩn_thận', 'đầu_tiên', 'mở', 'lúc_nào', 'giáo_dục', 'kinh_dị', 'bước', 'cô_đơn', 'dạo', 'bình', 'trái', 'bò', 'anh_em', 'tự_nhiên', 'giữa', 'lỗi', 'xử', 'tương_lai', 'trách', 'vỡ', 'tức', 'cứt', '_', 'nhắn', 'co', 'cơ_hội', 'họp', 'hôn', 'màu', 'ư', 'nắng', 'hại', 'thảo', 'mông', 'trò', 'dữ', 'liên_quan', 'vả', 'rác', 'thế_mà', 'hoài', 'sừng', 'thanh_xuân', 'lừa_đảo', 'súc_vật', 'sạch', 'lò', 'z', 'nhìu', 'nội', 'mạng', 'xàm', 'mùa', 'kết_hôn', 'bụng', 'xài', 'tụt', 'mát', 'công_an', 'bắn', 'trêu', 'báo', 'tha', 'cute', 'thể_loại', 'bất_ngờ', 'bắt_đầu', 'đỉnh', 'nghiệp', 'dành', 'quay_phim', 'gớm', 'kệ', 'chọc', 'giảm', 'chắc_chắn', 'pháp', 'cặp', 'ho', 'xác_định', 'đền', 's', 'chế', 'miệng', 'kem', 'ngoại', 'ghi', 'luật', 'chàng', 'buổi', 'suy_nghĩ', 'mối', 'kaka', 'phá', 'màn_hình', 'người_lớn', 'hic', 'váy', 'cuộc', 'cục', 'cô_giáo', 'phường', 'dân_trí', 'bắc', 'cảm_xúc', 'trà', 'kinh_nghiệm', 'nhầm', 'thế_thì', 'm', 'mũ', 'tận', 'í', 'chim', 'trốn', 'hỏng', 'đống', 'mức', 'vẻ', 'phần', 'so', 'sân', 'rắn', 'mổ', 'động_lực', 'việt_nam', 'nv', 'cổ_tích', 'chớ', 'phụ_huynh', 'nghiệt', 'xạo', 'đĩ', 'hòa', 'kéo', 'nặng', 'ghép', 'cu', 'p', 'sướng', 'bác_sĩ', 'haizz', 'riêng', 'mọc', 'nghèo', 'mê', 'kịp', 'tỏ_tình', 'thật_ra', 'đồng', 'ha', 'vứt', 'game', 'miếng', 'mừng', 'ô', 'khôn', 'thần_kinh', 'vỉa_hè', 'rõ', 'hix', 'no', 'giải_quyết', 'ca', 'tốt_đẹp', 'nói_chung', 'có_lẽ', 'khổ_thân', 'nghi', 'mặn', 'xô', 'đụ', 'lao_động', 'tag', 'nhổ', 'nhẹ_nhàng', 'tởm', 'bả', 'nợ', 'thường', 'quảng_cáo', 'thú_vị', 'viện', 'hi_vọng', 'hú_hồn', 'thâm', 'đái', 'khiếp', 'nhể', 'cảm_động', 'chê', 'nà', 'tổn_thương', 'chúc_mừng', 'giật_mình', 'ai_ngờ', 'auto', 'd', 'phục_vụ', 'tệ', 'tránh', 'mơ', 'sếp', 'ly', 'tát', 'ngầu', 'nồi', 'rộng', 'bắt_nạt', 'lười', 'tấm', 'tuổi_trẻ', 'hết_hồn', 'ấm', 'h', 'mùi', 'đấm', 'tiếp', 'heo', 'b', 'đội', 'lái', 'thông_minh', 'sinh_nhật', 'ban', 'thay_đổi', 'kẻ', 'tồn_tại', 'ấn', 'da', 'chua', 'thể', 'xây', 'cửa', 'năm_ngoái', 'quyết_định', 'cục_súc', 'ổn', 'quỷ', 'u', 'vấn_đề', 'cá_nhân', 'cửa_nhà', 'áp_lực', 'tỷ', 'canh', 'bảo_vệ', 'fan', 'vkl', 'dỗ', 'rạp', 'phút', 'lỗ', 'cứu', 'thành_công', 'hút', 'xuất_hiện', 'đám', 'chuẩn_bị', 'a', 'áp_dụng', 'tắt', 'xả', 'lưng', 'ngôn', 'nhà_nước', 'đít', 'cân', 'gậy', 'ham', 'nước_ngoài', 'vl', 'ước_mơ', 'mập', 'con_cháu', 'trở_nên', 'dcm', 'đối_với', 'ảnh_hưởng', 'vâng', 'vn', 'lửa', 'rằng', 'mãi_mãi', 'nuốt', 'giải_trí', 'chời', 'nhắc', 'tuyệt', 'lão', 'đại_học', 'khó_khăn', 'o', 'đắng', 'đạp', 'múi', 'thính', 'như_vầy', 'sờ', 'thuộc', 'hôm_qua', 'vớ_vẩn', 'bởi', 'giấy', 'mi', 'đằng', 'rụng', 'món', 'động', 'hài_hước', 'chúng_tôi', 'đồng_tiền', 'thất_tình', 'phẫn_nộ', 'minh', 'củ', 'phụ_nữ', 'xảy', 'oto', 'chiếc', 'thải', 'cao_su', 'nướng', 'hahaha', 'thực_tế', 'hộp', 'quà', 'tử_hình', 'tình_cảm', 'mất_công', 'vô_duyên', 'bông', 'hy_vọng', 'cãi', 'đa', 'trung', 'xếp', 'karaoke', 'chấp_nhận', 'chuột', 'huyền_thoại', 'trẻ_con', 'tỉ', 'xác', 'hình_ảnh', 'bướng', 'hành_tinh', 'giá_trị', 'rủ', 'cắm', 'lùn', 'cờ', 'hấp_dẫn', 'si', 'xíu', 'cức', 'lạc', 'chợ', 'giày', 'pháp_luật', 'tăng', 'văn', 'mặc_dù', 'rõ_ràng', 'dã_man', 'lầy', 'chấm', 'đại', 'bóng', 'page', 'dẹp', 'máy', 'chăm_sóc', 'góc', 'bể', 'hóng', 'cua', 'nhân_tính', 'dính', 'hội', 'gió', 'bỏ_mẹ', 'gấp', 'thiên_hạ', 'tè', 'ngưỡng_mộ', 'đàn_bà', 'zai', 'sóng', 'làng', 'dòng', 'giật', 'ngắm', 'lịch_sự', 'hư', 'chép', 'dỗi', 'facebook', 'lừa', 'kính', 'hành', 'ly_hôn', 'tham', 'quá_khứ', 'giả_vờ', 'mệt_mỏi', 'đến_nỗi', 'đôi_khi', 'tn', 'cột', 'thuê', 'em_gái', 'chúng', 'khoảng', 'đĩa', 'riết', 'khiến', 'dẫn', 'khả_năng', 'tốn', 'duyên', 'ruột', 'ml', 'kk', 'cơn', 'chăm', 'ga', 'truyện', 'ừ', 'này_nọ', 'sửa', 'chống', 'nhục', 'khoe', 'quét', 'yêu_đương', 'trách_nhiệm', 'thoải_mái', 'sáng_tạo', 'thu_nhập', 'va', 'sơn', 'công_nhân', 'thể_hiện', 'thánh', 'cam', 'ngược_lại', 'tự_dưng', 'diễn_viên', 'trứng', 'bạn_bè', 'lựa_chọn', 'độc', 'chuyển', 'fa', 'phú', 'trưa', 'lúa', 'mỏi', 'đạo_đức', 'hét', 'tóm', 'nhột', 'đau_khổ', 'trời_ơi', 'hết_sức', 'khiển_trách', 'máu', 'nta', 'thân_thiết', 'tý', 'hiệu_quả', 'xỉu', 'đỉ', 'lòi', 'bàn_tay', 'rửa', 'củi', 'rơm', 'ờ', 'chảy', 'đâm', 'vệ_sinh', 'khuyên', 'đàng_hoàng', 'xương', 'bốc', 'trúng', 'trộm', 'e', 'cỏ', 'mạnh_mẽ', 'xốp', 'dơ', 'sinh_viên', 'kinh_khủng', 'hè', 'muối', 'pha', 'công_việc', 'nhân', 'liên_tục', 'phốt', 'cán_bộ', 'na', 'gia', 'nét', 'thần_tài', 'ô_tô', 'vải', 'sắc', 'thức', 'dái', 'lai', 'hằng', 'ức_chế', 'tài_năng', 'xe_đạp', 'bày_đặt', 'nụ', 'mẫu_giáo', 'dắt', 'tổ_chức', 'hợp', 'bầy', 'rùi', 'thời_điểm', 'thất_bại', 'thê', 'dạng', 'xiên', 'hóa', 'caphe', 'mời', 'mềnh', 'mê_tín', 'an_toàn', 'tưởng_tượng', 'sắt', 'hộ', 'giáo_viên', 'mõm', 'tém', 'kiểm_tra', 'văn_hoá', 'hoàn_cảnh', 'lâu_lâu', 'vô_tình', 'hà', 'tu', 'x', 'nghĩ_lại', 'đề', 'tận_cùng', 'bệnh_viện', 'cạo', 'thui', 'mắng', 'ói', 'wow', 'hehe', 'trung_nguyên', 'đam_mê', 'lao', 'chia_sẻ', 'duy_nhất', 'trân_trọng', 'tự_hào', 'nát', 'cạp', 'say', 'lãng_mạn', 'bênh', 'ráng', 'công_khai', 'dạ', 'thú_vui', 'ui', 'lái_xe', 'kết_thúc', 'rảnh', 'đoán', 'ngày_tháng', 'vầy', 'lí_do', 'đòn', 'tui', 'bi', 'ý_kiến', 'share', 'môi_trường', 'dễ_dàng', 'ha_ha', 'dô', 'hí', 'đeo', 'gọn', 'nhật', 'biết_bao', 'khác_nào', 'tro', 'cẩu', 'nhai', 'nge', 'trèo', 'khuôn_mặt', 'chùa', 'vong', 'ngứa_mắt', 'bơi', 'đức', 'nhây', 'sử', 'giao_thông', 'hahaa', 'bát', 'chất_lượng', 'chợt', 'người_ngoài', 'bất_cứ', 'thiết_kế', 'nọ', 'ăn_nói', 'láo', 'chân_thành', 'ngoan', 'làm_ăn', 'phụ', 'né', 'ném', 'xử_lý', 'quanh', 'súc_sinh', 'như_thế', 'thoát', 'tắc', 'võng', 'chứng_minh', 'thành_phần', 'mún', 'gù', 'thực_ra', 'thanh', 'khó_chịu', 'ý_định', 'tiêu', 'dai', 'hiện_tại', 'nửa', 'công_ty', 'chưởng', 'ng', 'sức', 'phun', 'tài_sản', 'lẫn', 'danh', 'khoảnh_khắc', 'dth', 'phân_biệt', 'chang', 'gục', 'gato', 'lợi_dụng', 'bản_lĩnh', 'thay_vì', 'u_ám', 'thối', 'táp', 'khoái', 'hường', 'đặc_biệt', 'con_cái', 'gai_ốc', 'lòn', 'nhậu', 'nốt', 'soi', 've', 'gương', 'gê', 'hồ', 'nguồn', 'án', 'vi', 'lau', 'trồng', 'mượn', 'cú', 'ngại', 'chủ_nhiệm', 'vàng_trắng', 'buông', 'dây', 'dập', 'dâu', 'bo', 'cút', 'kinh_doanh', 'êu', 'nặn', 'add', 'ak', 'hề', 'có_hậu', 'liệu', 'võ', 'hợp_lí', 'miền', 'đảm_bảo', 'tôn_trọng', 'kể_cả', 'nghìn', 'mau', 'best', 'cưa', 'hốt', 'phá_hoại', 'vô_tâm', 'roi', 'bạo_lực', 'què', 'mái', 'một_số', 'xứng_đáng', 'da_gà', 'tan', 'kế', 'xanh', 'hay_là', 'việc_làm', 'đàn', 'đứt', 'bật', 'con_nít', 'hay_ho', 'bó_tay', 'du_lịch', 'trường_hợp', 'bờ', 'tiếp_tục', 'vũ', 'thế_hệ', 'lượt', 'lý_do', 'cũg', 'yên_tâm', 'nhân_viên', 'chúa', 'nhịn', 'ứa', 'lờ', 'dại', 'bá', 'phán', 'nguyên_nhân', 'vẩy', 'múa', 'nhà_thờ', 'bẻ', 'thẳng', 'chào', 'hà_nội', 'vv', 'ấm_áp', 'ghế', 'muộn', 'lưu_luyến', 'hứa', 'biết_mấy', 'ngựa', 'trôi', 'anh_chị', 'móc', 'giới_tính', 'rời', 'kết_quả', 'ngó', 'ăn_trộm', 'kỷ_niệm', 'hói', 'trận', 'sút', 'ch', 'thời_buổi', 'lướt', 'tổ', 'vở', 'xung_quanh', 'bồi_thường', 'vắt', 'hành_nghề', 'đú', 'mặt_mày', 'cà_phê', 'vui_tính', 'khỏe', 'nền', 'cta', 'man', 'nghiêm_túc', 'gặm', 'ngắt', 'bảo_hiểm', 'loài', 'dịch_vụ', 'thái_độ', 'trailer', 'trọn', 'tan_nát', 'nyc', 'tả', 'mợ', 'haiz', 'khùng', 'trái_tim', 'đạt', 'củng', 'giải', 'khen', 'hứng', 'hên', 'yến', 'tài_xế', 'rẻ', 'rách', 'than', 'nhốt', 'khủng_khiếp', 'lực', 'tinh_thần', 'mỏ', 'im', 'quan_hệ', 'thần', 'trẻ_em', 'hạt', 'gánh', 'gãy', 'pr', 'lựa', 'chăn', 'ê', 'vịt', 'bức', 'hàm', 'cá_tính', 'trở_lại', 'ướt', 'trước_kia', 'ngọc', 'đỏ', 'tạm_biệt', 'chiếu_phim', 'gan', 'nể', 'bỏ_tù', 'bình_tĩnh', 'bực', 'cầu_hôn', 'hahahaha', 'lậy', 'cậy', 'nghệ_thuật', 'ngược', 'kha', 'buôn', 'đu', 'súc', 'vợ_chồng', 'tội_nghiệp', 'lầm', 'trải', 'đầu_tư', 'mảnh', 'mải', 'thực_phẩm', 'mầm_non', 'độc_ác', 'lợi_ích', 'top', 'nh', 'bà_già', 'quyết_tâm', 'cám_ơn', 'đào', 'sốc', 'lìn', 'đố', 'ngày_mai', 'nỡ', 'đực', 'tế', 'cái_trò', 'quần_áo', 'nghỉ_việc', 'đổi', 'cư_xử', 'giao', 'chuồng', 'chổi', 'quơ', 'dán', 'bịa', 'gắp', 'biến', 'leo', 'nón', 'chỉnh', 'đè', 'cải', 'đạo', 'đù', 'địt', 'phép', 'dở', 'đường_ray', 'cố_tình', 'che', 'lào', 'lead', 'bày', 'mă', 'sai_lầm', 'trắng_tay', 'cafe', 'thuốc', 'tuyển', 'vại', 'thuế', 'vietcombank', 'dư', 'thói', 'đáy', 'dt', 'cổng', 'giá_như', 'núi', 'dịch', 'tươi', 'lộn_ruột', 'giun', 'bút', 'băng', 'mai_mốt', 'tự_ái', 'trầm_cảm', 'quăng', 'hoàn_toàn', 'sự_việc', 'cảnh_cáo', 'xe_máy', 'ơn', 'đói', 'chính_xác', 'an_ủi', 'đếu', 'lá', 'aeon', 'tồi', 'ninja', 'thốn', 'nhân_văn', 'xoài', 'vác', 'dao', 'người_nhà', 'gu', 'tìm_hiểu', 'hạ', 'sức_khoẻ', 'bình_yên', 'đg', 'khung', 'phố', 'bãi', 'điểm_danh', 'ý_tưởng', 'oan', 'ngực', 'ngọt_ngào', 'thần_thái', 'khách_hàng', 'tắm', 'ảo', 'chừa', 'tật', 'trở', 'thơm', 'vật', 'nắm', 'đề_nghị', 'nội_dung', 'xịt', 'trở_thành', 'siêu', 'sót', 'cá', 'bất_chấp', 'dâm', 'cướp', 'thà', 'chạnh_lòng', 'mồ_hôi', 'khói', 'giường', 'bóng_đá', 'kỷ_nguyên', 'ngươ', 'mất_nết', 'thợ', 'tài_liệu', 'mặt_nạ', 'xui', 'bựa', 'lắp', 'buồi', 'chuyến', 'nghiện', 'chặt', 'biết_bao_nhiêu', 'một_mình', 'dựng', 'chảnh', 'dè', 'quả_báo', 'một_chút', 'chai', 'để_ý', 'cảm', 'tội_lỗi', 'văn_hóa', 'le', 'xây_dựng', 'kinh_tế', 'phẩm', 'bị_thịt', 'hồng', 'sử_dụng', 'bã', 'trái_đất', 'thiệc', 'kiện', 'thực_sự', 'nàng', 'nhất_định', 'kì_thị', 'vườn', 'đối_tượng', 'điều_kiện', 'thất_vọng', 'túi', 'dị', 'tờ', 'mút', 'lêu', 'chuối', 'chớp', 'cánh', 'chẹp', 'khốn', 'bóc', 'suýt', 'trog', 'cơ_quan_chức_năng', 'hiện', 'kĩ', 'link', 'chủ_yếu', 'dã', 'hén', 'dự_án', 'gióng', 'ad', 'ốm', 'lẹ', 'văn_minh', 'tạt', 'tàn', 'trụ', 'mở_cửa', 'mép', 'hít', 'tiên', 'lên_án', 'hoà', 'dép', 'ngây_thơ', 'dẻo', 'tham_lam', 'kiên_trì', 'ké', 'chứng', 'già_mồm', 'chay', 'g', 'em_trai', 'đồng_cảm', 'đào_tạo', 'căng', 'tướng', 'ga_lăng', 'hỡi', 'xem_thường', 'chả_bù', 'kiến_vàng', 'cứt_trâu', 'ok', 'trò_đùa', 'xưng', 'bóp', 'dần', 'tư_tưởng', 'học_bổng', 'q', 'sủa', 'hú', 'vỏ', 'dụ', 'lễ', 'kiến_đen', 'đắp', 'thang_máy', 'dồi', 'bầm', 'ngân', 'đợt', 'vcb', 'tiết', 'đối_xử', 'chủ_động', 'time', 'chiến_đấu', 'gạo', 'áo_mưa', 'đươ', 'chư', 'ghé', 'phọt', 'cốc', 'sạch_sẽ', 'thắng', 'xúc', 'không_thể_nào', 'hiên_ngang', 'khỉ', 'bầu', 'phèo', 'anh_chị_em', 'he', 'online', 'lợi_nhuận', 'chốt', 'phơi', 'thụt', 'đọ', 'lứa', 'vòng', 'phía', 'tô', 'nua', 'khoá', 'trong_sạch', 'ship', 'y_tế', 'sức_khỏe', 'thư', 'tiền_bạc', 'thái', 'sàn', 'ngu_ngốc', 'vô_dụng', 'ong', 'ổn_định', 'phi', 'cung_cấp', 'ranh_con', 'giời', 'tiên_sư', 'đau_đớn', 'coi_thường', 'đô', 'viê', 'ti', 'tra', 'nhiê', 'sống_chết', 'th', 'nhát', 'thắc_mắc', 'tư', 'rứa', 'làm_giàu', 'tiệm', 'thời_trang', 'tự_trọng', 'rẻ_mạt', 'ngồi_tù', 'đáp', 'kẹo', 'ngõ', 'rọ_mõm', 'thân_hình', 'đóng_cửa', 'loạn', 'quái', 'xuất', 'lãnh_đạo', 'lở', 'trồi', 'mù', 'cmm', 'học_hành', 'hoàn_hảo', 'thượng', 'thg', 'ích_kỉ', 'trọn_vẹn', 'tường', 'rổ', 'mặt_dày', 'cũ', 'bia', 'lý', 'xử_phạt', 'lãi', 'ngưng', 'hưởng', 'tháo', 'gầy', 'phù_hợp', 'bởi_vậy', 'theo_dõi', 'sức_mạnh', 'lớn_tuổi', 'có_học', 'dốt', 'lí', 'vẫy', 'lọt', 'biến_thái', 'vô_cùng', 'thẻ', 'ự', 'thèn', 'du', 'lấp', 'phận', 'sung_sướng', 'chính_sách', 'bậy', 'giận_dỗi', 'mạnh_khỏe', 'rung_động', 'vặt', 'cà', 'phát_triển', 'sài', 'hành_hạ', 'tợp', 'loài_người', 'truyền_hình', 'doi', 'cong', 'đơn_phương', 'gắn_bó', 'dần_dần', 'én', 'ngu_dốt', 'tiền_mặt', 'đèn', 'đắt', 'rep', 'đĩa_bay', 'ngứa', 'thiếu_nhi', 'mềm', 'thổi', 'khét', 'hoàng', 'tâm_lý', 'xe_ôm', 'làm_công', 'ngày_nay', 'sg', 'cuồng', 'chém', 'ngốc', 'ngán', 'giây', 'sư', 'me', 'cản', 'hot', 'tôm', 'người_thương', 'hình_sự', 'dị_đoan', 'trật_tự', 'xh', 'sập', 'ghen', 'bùi', 'linh_tinh', 'bự', 'cmt', 'xe_hơi', 'ctay', 'quá_đáng', 'khóc_lóc', 'tranh', 'nhăn', 'loa', 'đẩy', 'cụt', 'sâu', 'giải_thích', 'ắt', 'vương', 'ăn_uống', 'mốc', 'biết_đâu', 'thiện', 'lành', 'nick', 'nghịch', 'răng_khôn', 'gián', 'quan', 'chặn', 'sáng_mai', 'bấm', 'dội', 'cá_sấu', 'cuốn', 'tranh_luận', 'nhưg', 'khoẻ', 'thang', 'bám', 'gọn_gàng', 'trầm_trồ', 'châu', 'hót', 'hứng_thú', 'đồng_đội', 'vay', 'post', 'thai', 'day', 'mạng_nhện', 'kín', 'vid', 'trại', 'ấn_tượng', 'team', 'tồi_tệ', 'tào_lao', 'nguyện', 'chú_ý', 'vật_chất', 'trước_mắt', 'nộp', 'đồn', 'cáo', 'chiếu', 'trưởng_thành', 'xách', 'ăn_ở', 'oy', 'ruồi', 'sởn', 'nhập', 'đẳng_cấp', 'hẹn', 'eo', 'thỏ', 'lui', 'gào', 'men', 'tủ', 'nhiệm_vụ', 'dị_ứng', 'quận', 'rẽ', 'cai', 'chổ', 'hờ', 'trả_lời', 'rải', 'đinh', 'lập', 'thấm', 'mật', 'liên_tưởng', 'vũ_trụ', 'dự', 'tông', 'nhàm', 'hồn', 'tiếp_theo', 'quý', 'cực_khổ', 'bô', 'trump', 'thăm', 'thây', 'lịch_sử', 'nguyễn', 'tàn_nhẫn', 'khâm_phục', 'nhg', 'lạy', 'nho', 'lưu', 'hoá', 'chờ_đợi', 'hiền_lành', 'ngửi', 'nhét', 'hoá_ra', 'làm_khó', 'hàng_loạt', 'rể', 'nổi_tiếng', 'tà', 'sáng_suốt', 'cáu', 'hư_hỏng', 'nóc', 'làm_trò', 'thành_phố', 'máu_me', 'sự_thật', 'ngàn', 'mong_manh', 'như_chơi', 'edit', 'luôn_luôn', 'trời_đánh', 'mang_tiếng', 'csgt', 'nhặt', 'lòng_đường', 'thô', 'moi', 'tinh_tế', 'phóng_điện', 'ích_kỷ', 'chịu_khó', 'hiệu_trưởng', 'hèn', 'um', 'đầm', 'nông_dân', 'lùi', 'nao', 'quãng', 'kịch_bản', 'chùm', 'xi_nhan', 'sẻ', 'nhóc', 'gay', 'kỉ_lục', 'chiêu', 'thú', 'tánh', 'chóng_mặt', 'cap', 'tiệc', 'mũi', 'xăng', 'gáy', 'tan_vỡ', 'main', 'linh_hồn', 'nhiệt_tình', 'mò', 'cát', 'ồ', 'hì', 'sn', 'khép', 'đểu', 'thét', 'mắm_tôm', 'ổ', 'ngộ', 'hậu', 'pin', 'tuột', 'vì_sao', 'mà_lại', 'nhặng', 'tầng', 'háng', 'bón', 'vụn', 'vai', 'sách', 'láo_toét', 'lôi', 'học_sinh_học', 'tấn_công', 'gắt', 'nắng_nóng', 'ne', 'nhảm_nhí', 'há', 'ầm', 'vĩ_đại', 'mí', 'sgk', 'toa', 'tích_sự', 'haizzz', 'ô_uế', 'cạn_lời', 'tiêu_diệt', 'dù_sao', 'vã', 'vốn', 'mẫu', 'mỳ', 'trí_tuệ', 'gáo', 'truyền', 'đắng_cay', 'bàn_tay_trắng', 'hát_hò', 'thùng', 'trụi', 'dẽ', 'bố_láo', 'níu', 'biết_điều', 'tong', 'mấy_đời', 'tre', 'chóp_chép', 'xa_hoa', 'nhỏ_bé', 'đành', 'tất_nhiên', 'xinh_xinh', 'mai_sau', 'tin_tưởng', 'sứng', 'qua_đời', 'quang', 'tiền_kiếp', 'vé', 'ẻ', 'coi_bộ', 'max', 'làm_thuê', 'nhà_quê', 'túm', 'vời', 'một_cách', 'bóng_dáng', 'cho_nên', 'vẩn', 'mạnh_tay', 'nhất_là', 'mỉm', 'tiêu_đề', 'đi_đứng', 'dọc', 'or', 'bổ', 'đâm_đầu_vào', 'ngàn_thu', 'đàn_hồi', 'đánh_rơi', 'xa_vời', 'trộm_cắp', 'trào', 'thận', 'xoá', 'mỹ', 'xxx', 'hài_lòng', 'mơ_mộng', 'quẹo', 'ai_đời', 'tính_chuyện', 'lâu_dài', 'tiễn', 'đổ_vỡ', 'đùi', 'tím', 'giơ', 'năm_học', 'ngấm', 'đấu', 'hàg', 'hồi_hộp', 'trùn', 'giun_đất', 'tét', 'ướp', 'trôi_sông', 'sản_phẩm', 'mới_lạ', 'kẻo', 'thúi', 'đanh', 'ngất', 'định_mệnh', 'hãi', 'trầu', 'y_như_rằng', 'mát_lòng', 'vờ', 'rờ', 'dâm_ô', 'gẫy', 'hiệp', 'tỉnh_táo', 'bao_cấp', 'agribank', 'phong', 'phì', 'đi_đêm', 'tủi', 'thầm', 'rừng', 'nì', 'khựa', 'bè_phái', 'gật', 'lắm_chuyện', 'bánh_chưng', 'tung', 'thở', 'gã', 'đón_nhận', 'giông_bão', 'combo', 'phe', 'shipper', 'thù', 'phù_du', 'ưng', 'bể_dâu', 'lót', 'bửa', 'làm_tới', 'nở', 'bít', 'xa_lạ', 'gieo', 'gặt', 'chung_thân', 'nghiệp_chướng', 'thức_ăn', 'úi', 'người_dưng', 'rớ', 'mong_muốn', 'thâ', 'nhâ', 'đương_nhiên', 'se', 'nê', 'nhân_cách', 'lẳng_lơ', 'mật_ong', 'trời_đất', 'bệnh_hoạn', 'mẻ', 'chôn', 'rảnh_rỗi', 'cũng_nên', 'mì', 'mần', 'mãn_nguyện', 'không_khí', 'nhằm', 'ngày_sinh_nhật', 'bịch', 'ai_bảo', 'ốm_nhom', 'cở', 'cởi', 'lắc_đầu', 'ngta', 'thách_thức', 'kỉ', 'bôi', 'che_chở', 'sấm', 'âm', 'hãng', 'quảng', 'shop', 'bao_xa', 'híc', 'xoắn', 'nhà_bếp', 'rùng', 'lồng', 'nhảm', 'cửa_hàng', 'wc', 'sánh_vai', 'bỗng_nhiên', 'la_hét', 'mất_mặt', 'bún', 'viên', 'tham_gia', 'cưỡng_hôn', 'dùm', 'ngữ_văn', 'độg', 'lùa', 'súng', 'ván', 'tàu_hoả', 'va_chạm', 'bth', 'ngang_trái', 'chấp_hành', 'kỉ_niệm', 'di', 'hột', 'kim_tuyến', 'bă', 'lạnh', 'phá_sản', 'khí_hậu', 'sớm_muộn', 'chén', 'bùn', 'gai', 'haa', 'chuc', 'dầy', 'mobile', 'nói_riêng', 'muôn_đời', 'thật_tình', 'đồi', 'xog', 'mốt', 'cóc', 'răn_đe', 'hoc', 'hố', 'tuyet', 'voi', 'xào', 'đụng_chạm', 'hức', 'châm', 'họ_hàng', 'lằm', 'lốn', 'hihii', 'bn', 'khoản', 'tri', 'cổ_động_viên', 'năng_khiếu', 'tục', 'pk', 'buồn_ngủ', 'khấc', 'trọc', 'te', 'câ', 'táng', 'dụng_cụ', 'vô_ý_thức', 'ghê_tởm', 'bà_cô', 'nhà_máy', 'tuấn', 'kiệt', 'đại_gia', 'trăng', 'beep', 'ngôi', 'chỉ_huy', 'cỡ', 'diệt', 'bởi_vì', 'muôn', 'đag', 'gia_phả', 'vcd', 'hành_chính', 'nhu_cầu', 'gỡ', 'tàu_hỏa', 'bung', 'lật', 'tố_chất', 'alo', 'chua_cay', 'chi_tiết', 'tay_chân', 'dầu_hôi', 'phủ_nhận', 'vai_trò', 'khập_khiễng', 'ngu_si', 'loạn_luân', 'điên_khùng', 'phiền', 'tay_trái', 'thẹo', 'rụi', 'bánh_bèo', 'đi_nữa', 'đi_ngoài', 'diệu', 'béo_tốt', 'bình_quân', 'vùng', 'nếp', 'năn', 'bịt', 'cùi', 'từ_thiện', 'chật', 'cư', 'điêu', 'ợ', 'chắn', 'gio', 'mét', 'anh_vũ', 'hã', 'cp', 'thiên_thần', 'kết_bạn', 'chịu_đựng', 'vợ_con', 'kí_ức', 'ép', 'uy_tín', 'lì_xì', 'sen', 'kết_hợp', 'sx', 'hư_cấu', 'free', 'thờ_ơ', 'phạm', 'cay_nghiệt', 'goodbye', 'bar', 'ngày_càng', 'héo', 'cớ_sao', 'sổ', 'khó_ở', 'mất_ngủ', 'tình_cờ', 'như_điên', 'hình_thức', 'vô_lý', 'bé_nhỏ', 'chứng_kiến', 'xời', 'môn', 'cành', 'sale', 'thất_đức', 'nhung', 'công_nghệ', 'mặt_trăng', 'đồng_ý', 'lao_công', 'dọn_dẹp', 'từ_bỏ', 'vênh', 'kêu_ca', 'khô', 'sán', 'xử_tử', 'loz', 'đu_đủ', 'thìa', 'nằm_mơ', 'thoáng', 'canxi', 'xuống_nước', 'đánh_đòn', 'kì', 'bù', 'giống_hệt', 'niêm_yết', 'trật', 'giải_pháp', 'sad', 'tóm_lại', 'mới_đây', 'net', 'nín', 'đoàn_viên', 'đồng_hồ', 'thuyết_phục', 'ối', 'lương_tâm', 'hậu_quả', 'thôi_thì', 'view', 'dơ_bẩn', 'quậy', 'vui_mừng', 'đụng', 'công_bằng', 'gv', 'cầu_mong', 'khớp', 'ăn_không', 'sâu_sắc', 'lượn', 'nửa_vời', 'chã', 'vội', 'sảnh', 'tòa', 'râu', 'trang', 'ăn_cắp', 'mua_sắm', 'hj', 'lời_nói', 'thối_nát', 'thế_gian', 'tình_ái', 'dở_người', 'kêu_trời', 'giàu_có', 'ăn_hàng', 'khó_tính', 'dịp', 'ánh_sáng', 'phóng', 'uầy', 'ăn_học', 'li', 'dấu', 'đệ', 'thực_tập', 'cảm_nhận', 'vé_số', 'chj', 'nhân_ái', 'nhớ_đời', 'hẹn_hò', 'iq', 'quài', 'ngẩng', 'an', 'ngậm', 'vụt', 'nghiêm_khắc', 'hoành_tráng', 'ngân_hàng', 'giáo_dưỡng', 'dkm', 'cung', 'nỗi_lòng', 'tiện', 'quạt', 'the', 'bảo_thủ', 'thừa', 'thực', 'đồng_lòng', 'gối', 'sẵn_sàng', 'đúi', 'gạch', 'như_ý', 'lĩnh_vực', 'văn_học', 'cống_hiến', 'cạch', 'xuất_sắc', 'hoàn_thành', 'điệu', 'lít', 'tùy', 'động_viên', 'fake', 'bền', 'oke', 'chín', 'lây', 'bạt_tai', 'cau', 'tốc_độ', 'vụ_việc', 'make', 'cúp', 'van_xin', 'làm_phiền', 'nhiu', 'ác_ôn', 'ngon_lành', 'mục_đích', 'gd', 'ngọng', 'hình_phạt', 'gào_thét', 'nghiệt_ngã', 'mé', 'lằn', 'cảnh_sát', 'đọan', 'phương_tiện', 'tau', 'lách', 'nhãn', 'đầu_óc', 'tt', 'vâ', 'nhân_vật', 'sảy', 'người_làm', 'cật_lực', 'tới_tấp', 'mỉa_mai', 'vui_sướng', 'ít_nhất', 'kịch', 'qué', 'niềng', 'phục', 'thật_thà', 'cm', 'lém', 'meo', 'lẽ', 'ôi_thôi', 'múc', 'quá_thể', 'trao', 'tiến_bộ', 'ưu_tú', 'mất_lòng', 'long', 'mỡ', 'tks', 'điếc', 'trộn', 'khắp', 'ớn', 'giờ_đây', 'ngờ', 'bit', 'vi_phạm', 'đổ_thừa', 'quốc', 'khinh', 'hâm', 'phiêu', 'phong_trào', 'cặn_bã', 'kỳ', 'hack', 'trùm', 'giả_bộ', 'lén', 'cà_rốt', 'mụn', 'nghiêm_trọng', 'nghịch_ngợm', 'cún', 'lối', 'đặc_vụ', 'tuyệt_đối', 'tiếp_tay', 'ẩu', 'tuyển_dụng', 'phá_giá', 'gốc', 'mớ', 'cống', 'chân_chính', 'hoan_hô', 'hêt', 'thặc', 'khu', 'sợi', 'hả_dạ', 'kèo', 'ngọn', 'cổ_họng', 'cực_kì', 'bét', 'quản_lý', 'vén', 'áo_dài', 'tiền_túi', 'ác_mộng', 'vần', 'lm', 'phản_ứng', 'đấu_giá', 'giòi', 'dạy_dỗ', 'dột', 'khan', 'dũng_cảm', 'mót', 'chia_chác', 'xoạc', 'stk', 'từ_chối', 'gg', 'nhẽ', 'hàn_quốc', 'bốn', 'trọng_dụng', 'thói_quen', 'thực_trạng', 'ngóng', 'đấu_tranh', 'bừa_bãi', 'nhà_ăn', 'thiệp', 'tư_cách', 'vlog', 'xì', 'trắng', 'khẩu', 'hê', 'đối_thủ', 'toán', 'núp', 'có_mặt', 'kill', 'ka', 'lên_cơn', 'ghẹo', 'chúng_mình', 'chan', 'khía_cạnh', 'kp', 'thần_thánh', 'lạng', 'phản_đối', 'uổng_phí', 'ngắn_ngủi', 'ngoài_ra', 'kiện_tụng', 'tháng_ngày', 'kĩ_thuật', 'tra_tấn', 'àh', 'ơiiii', 'khẩu_trang', 'vì_vậy', 'bụi', 'xao_xuyến', 'trích', 'chứa', 'thông_điệp', 'chân_mày', 'tuỳ', 'yêu_tinh', 'ngan', 'chách', 'cay_đắng', 'trị', 'bắt_cóc', 'thị', 'ghệ', 'lộ', 'trò_cười', 'hó_hé', 'dể', 'chia_ly', 'cắm_sừng', 'drama', 'phấn', 'học_hỏi', 'chuyên_nghiệp', 'copy', 'in', 'tạo_hóa', 'ló', 'hận', 'dang_dở', 'nai', 'xóm', 'nhòm', 'định_nghĩa', 'kề', 'đồ_chơi', 'xấu_hổ', 'khóa', 'thông', 'đau_đầu', 'nhãm', 'dọa', 'banh', 'list', 'nũa', 'nhóm', 'dĩa', 'vô_học', 'thênh_thang', 'mua_vui', 'miễn_phí', 'bế', 'tẩm', 'im_lặng', 'thấu', 'xé', 'bro', 'tít', 'het', 'rốt', 'uất', 'ghiền', 'mxh', 'khung_cảnh', 'thân_thương', 'non', 'quy_định', 'que', 'ấu_trĩ', 'qá', 'dẫu', 'tấn', 'đánh_bại', 'phần_nào', 'bất_cần', 'khí', 'ngạc_nhiên', 'lịch', 'tình_hình', 'thât', 'hốc', 'con_nuôi', 'tải', 'rợn', 'chuyên_gia', 'đuợc', 'tởn', 'lụm', 'hưởng_thụ', 'thuận', 'bận', 'tâm_trạng', 'chủ_nhật', 'bim', 'liệt_kê', 'đèo', 'tủi_thân', 'ib', 'xắm', 'quát', 'hiện_đại', 'tiếc_nuối', 'dáng', 'truy_tố', 'tật_nguyền', 'phân', 'nhỏ_nhen', 'cừu', 'nhuộm', 'ròi', 'vĩnh_viễn', 'you', 'thanh_thản', 'diễn_xuất', 'bg', 'xí', 'yếu', 'ẻm', 'hổng', 'xịu', 'vất', 'ny', 'ủ', 'kí', 'cực_kỳ', 'chiếm', 'đóa', 'đanh_đá', 'nghề_nghiệp', 'suýt_nữa', 'con_số', 'đúg', 'lăn', 'hạp', 'làn', 'yếu_đuối', 'vị_trí', 'ngày_ngày', 'mỏng_manh', 'trọ', 'đâu_đây', 'ngắn_gọn', 'hất', 'xót', 'nặng_lời', 'bọ', 'thik', 'võ_thuật', 'thằn_lằn', 'bốp', 'ỉ', 'so_sánh', 'số_phận', 'theo_đuổi', 'mâm', 'ôtô', 'loi_choi', 'galang', 'dỗ_dành', 'sinh_vật', 'ốc_bươu_vàng', 'liêm_sỉ', 'vất_vả', 'tình_nguyện', 'sổ_đỏ', 'riềng', 'thông_tin', 'nuôn', 'thể_thao', 'độc_thân', 'khoa', 'cũn', 'truyền_thuyết', 'trả_thù', 'cường_lực', 'truyền_bá', 'thảm_họa', 'tùm_lum', 'kiến_thức', 'síu', 'kích_thích', 'riêng_tư', 'king', 'oai', 'báo_hiếu', 'nhà_đá', 'y_như', 'chăng_nữa', 'giặt', 'bỏ_rơi', 'hạn', 'có_hạn', 'lát', 'giấy_tờ', 'chết_đuối', 'nhường', 'trĩ', 'tâm_sự', 'check', 'thuong', 'khac', 'câng', 'ae', 'chọp', 'ánh', 'đáng_đời', 'uớc', 'muôn_vàn', 'huống', 'chậm_trễ', 'gồng', 'bán_nước', 'lơ', 'phức_tạp', 'chinh_phục', 'bây_chừ', 'trất', 'hs', 'mẩu', 'tổng_kết', 'miết', 'đầy_đủ', 'bài_tập', 'cv', 'múa_lân', 'thiệt_hại', 'trầy_xước', 'bộn', 'kiệt_sức_khỏe', 'chế_độ', 'tự_nguyện', 'kq', 'lừa_gạt', 'coi_chừng', 'mj', 'phá_hủy', 'phật_giáo', 'đời_sống', 'tâm_linh', 'rẻ_rúng', 'giang', 'thy', 'ngẫm_nghĩ', 'sọ_dừa', 'lạ_lùng', 'nghệ_an', 'huề', 'sái', 'quai_hàm', 'phát_hiện', 'bép_xép', 'lạ_mắt', 'khoé', 'khoa_học', 'nước_lạnh', 'ks', 'quà_cáp', 'ngón', 'phàm_ăn', 'ưu_đãi', 'dịu_dàng', 'cup', 'nhỏ_nhặt', 'giở_trò', 'thời_sự', 'tổ_sư', 'the_thé', 'cơ_bắp', 'kì_lạ', 'thằng_cha', 'zi', 'lộng_lẫy', 'đong', 'ngông', 'trễ', 'vô_số', 'phần_lớn', 'ngoại_lệ', 'bước_tiến', 'thuở', 'thiếu_thời', 'chẳn', 'bốc_đồng', 'đe', 'cận_cảnh', 'nước_lèo', 'hao', 'bản_chất', 'ưa', 'chú_rể', 'socola', 'of', 'mun', 'kip', 'cúng', 'âm_binh', 'volum', 'cast', 'người_thân_quen', 'dlm', 'tụm', 'mờ', 'gane', 'stt', 'cài', 'úng', 'suy_đồi', 'công_lao', 'đền_đáp', 'ngoác', 'gấu_trúc', 'trúc', 'vtv', 'vợ_bé', 'ngây_ngô', 'fải', 'tràn_ngập', 'ngỡ', 'thóc', 'ay', 'mọt_gông', 'bon', 'ròng_rã', 'lưu_lạc', 'kiến_lửa', 'zời', 'chìm', 'nóng_tính', 'cương_quyết', 'trân_châu', 'huy_hoàng', 'le_lói', 'đạo_cụ', 'nồng', 'khóe', 'cào', 'phím', 'chê_bai', 'am_hiểu', 'giớ', 'giây_phút', 'láp', 'xược', 'nệm', 'vụng_về', 'phát_huy', 'zo', 'hoàn_chỉnh', 'hee', 'sóc', 'gõ', 'đêm_đêm', 'hắn', 'cay_cú', 'hàng_không', 'nhồi', 'gián_tiếp', 'cấp_độ', 'tai_nghe', 'viển_vông', 'kì_cục', 'chớt', 'bước_đầu', 'rài', 'nhớp', 'cư_dân', 'phập', 'tươ', 'tốt_nghiệp', 'phen', 'ri', 'đa_phần', 'đông_lạnh', 'bỉm', 'đậm_chất', 'phân_khối', 'mink', 'nhà_cửa', 'ma_quỷ', 'đi_lại', 'mất_gốc', 'lag', 'đẹp_đôi', 'tơi', 'chùi', 'trung_quốc', 'tai_nạn', 'ngừng_nghỉ', 'èo', 'tàn_phá', 'vá', 'la_làng', 'tự_vấn', 'cô_hồn', 'nghèo_rớt', 'mồng_tơi', 'oi', 'troi', 'nhập_khẩu', 'rả', 'khinh_thường', 'làm_gương', 'đối_phương', 'khôi_phục', 'hận_thù', 'cập_nhật', 'bất_động_sản', 'hó', 'dự_định', 'đổ_xô', 'hiếu_kỳ', 'loai', 'xấu_xa', 'canh_bạc', 'tự_sát', 'bọ_xít', 'thì_chớ', 'ngoạc', 'hễ', 'bợt', 'phổi', 'dõ', 'ô_nhiễm', 'rộ', 'quả_quyết', 'kể_ra', 'móc_túi', 'hàm_răng', 'chinh_chiến', 'nhem_nhẻm', 'cả_thể', 'ná', 'tác_phẩm', 'hiếm_hoi', 'điện_ảnh', 'công_chúng', 'đạn', 'đau_điếng', 'nhắm_mắt', 'nắm_bắt', 'kéo_theo', 'ẩu_tả', 'thuoc', 'bat', 'kiem', 'diễm', 'nhăn_nhó', 'sạn', 'cánh_tay', 'độn', 'lộn', 'la_liếm', 'làm_loạn', 'định_hướng', 'vậy_sao', 'khởi_động', 'tay_nghề', 'nấu_nướng', 'ương', 'ben', 'nhiêu', 'mặc_cả', 'quần_lót', 'ki', 'gơ', 'thành_quả', 'del', 'xoắn_ốc', 'quy_luật', 'cày', 'cơ_ngơi', 'r', 'hối_hận', 'tpbank', 'giấu', 'bòn', 'căng_thẳng', 'mức_độ', 'nói_xấu', 'hầu_như_ai', 'bao_dung', 'người_thân', 'khuyết_điểm', 'hoạ', 'dàn', 'bật_lửa', 'vinmec', 'nghê', 'â', 'lung_lay', 'lắng', 'nàn', 'công_nghiệp', 'đại_trà', 'đun', 'chơi_bời', 'làm_biếng', 'nhang', 'khấn_vái', 'tài_lộc', 'tóc_sâu', 'đ', 'phiền_hà', 'chắt', 'tâm_hồn', 'rông', 'tội_ác', 'hoàn_mĩ', 'gan_dạ', 'chân_kính', 'hồi_xuân', 'rần_rật', 'cắt_cử', 'giềng', 'quy_trình', 'đợi_chờ', 'tiến_triển', 'hơn_nữa', 'hư_đốn', 'dị_nghị', 'chì_chiết', 'phia', 'danh_ngôn', 'bột', 'chiên', 'huhuhu', 'checkin', 'tình_trạng', 'bất_kì', 'km', 'mặc_kệ', 'sapa', 'dụi', 'pv', 'toilet', 'troll', 'dưa', 'cf', 'quàng', 'hiếp_dâm', 'ngửa', 'thấy_kinh', 'suy_thoái', 'khuôn', 'đúc', 'bắt_chuyện', 'tỉ_mỉ', 'ac', 'tín_ngưỡng', 'xem_chừng', 'đét', 'quát_tháo', 'nhố_nhăng', 'khu_phố', 'đựoc', 'đích', 'thiu', 'giám_đốc', 'đậm', 'zay', 'sỉ_nhục', 'lăng_mạ', 'kẻ_thù', 'xám', 'thục_mạng', 'đắn_đo', 'ù', 'tào', 'chòi', 'môi', 'zoe', 'khôn_lớn', 'chồn', 'sắp_sửa', 'vòng_vòng', 'tơ', 'đua', 'diển', 'khuyến_mại', 'chột_dạ', 'hlv', 'pogba', 'mu', 'thời_tiết', 'thông_báo', 'cấy', 'giải_phóng', 'chiếm_đoạt', 'nhằng', 'tno', 'cử', 'tép', 'hùm', 'cs', 'mơ_ước', 'mòn', 'nha_nha', 'cóng', 'hp', 'thầu', 'nấu_ăn', 'bư', 'sư_tử', 'phúc_đức', 'thiết_bị', 'cẩng', 'ớ', 'ăn_vạ', 'bonus', 'ven', 'máy_chém', 'chân_thực', 'vững', 'quan_điểm', 'kara', 'trang_trí', 'đèn_cầy', 'lòa', 'nhà_thơ', 'ẩn_dụ', 'chơi_chữ', 'phân_tích', 'nươ', 'ninh', 'tiê', 'giu', 'đơ', 'be', 'giẻ', 'mừn', 'nhíp', 'sưởi', 'thủy_lực', 'luyến', 'khởi_nghiệp', 'tsb', 'cao_nguyên', 'nhiệt_đới', 'lạnh_giá', 'sương_muối', 'sinh_trưởng', 'biên', 'haizzzz', 'nhâm_nhi', 'phì_phèo', 'điếu', 'boxing', 'ra_đời', 'dụ_dỗ', 'nết_na', 'euro', 'rực', 'toà', 'phủ', 'sĩ_diện', 'inter', 'banking', 'kau', 'vàng_đen', 'hồ_tiêu', 'tứ_xứ', 'nhớp_nhúa', 'khía', 'nạn', 'rồi_ra', 'nhĩ', 'ào', 'son', 'báo_đáp', 'giúp_việc', 'phức', 'sấm_sét', 'doạ', 'dg', 'rap', 'quên_mình', 'dap', 'rat', 'vu', 'nhanh_trí', 'ớt', 'cú_mèo', 'tự_ý', 'nhẹ_tay', 'chẳng_bù', 'gặp_mặt', 'bất_lương', 'my', 'hoang_tưởng', 'thâm_niên', 'kiềm_chế', 'khắc_phục', 'vũ_lực', 'giải_lao', 'quá_khích', 'trá', 'bằng_chứng', 'tiêu_cực', 'sun', 'công_chúa', 'đời_thường', 'sầu_riêng', 'lanh', 'tay_đôi', 'biết_ơn', 'hổ', 'đi_bụi', 'xen', 'lô', 'lz', 'camera', 'không_đâu', 'iêu', 'bờm', 'khuyến_cáo', 'thủng', 'nhân_hậu', 'ghe', 'vung', 'sặc', 'đành_rằng', 'ăn_xin', 'đoàng', 'víu', 'ukm', 'nhồn', 'màu_mè', 'khẽ', 'lệ', 'hí_hửng', 'tụ_họp', 'khắn', 'sáng_lập', 'công_thức', 'hợp_lý', 'mổi', 'ăn_nhậu', 'ngà_ngà', 'giang_hồ', 'tưởng_chừng_như', 'dâu_tằm', 'biến_dạng', 'địch', 'cầu_thang', 'dựt', 'đoàn_kết', 'manga', 'bản_địa', 'rmit', 'an_ninh', 'thèm_khát', 'bỉu', 'singapore', 'hành_lý', 'hù', 'công_tác', 'cô_dâu', 'liên_đoàn', 'liên_hệ', 'chơi_khăm', 'huống_gì', 'điệu_đà', 'trầy', 'rớt_giá', 'kinh_khủng_khiếp', 'aw', 'công_ích', 'nhà_tù', 'giúp_ích', 'mall', 'hủy_hoại', 'bé_con', 'mịa', 'tuôi', 'lạc_quan', 'ứng', 'ồn', 'sống_lưng', 'sài_gòn', 'bí_quyết', 'agri', 'hách', 'đũa', 'con_cả', 'thân_ái', 'tích_cực', 'rạch', 'tại_chỗ', 'sưng', 'triệt_sản', 'nghén', 'âm_nhạc', 'tưng', 'hu_hu', 'xóa_bỏ', 'láng', 'mịn', 'tam_kì', 'ds', 'làm_luật', 'tay_trắng', 'chen', 'xơi', 'trỏ', 'lành_lặn', 'vác_mặt', 'đầu_gấu', 'chí_ít', 'hiện_giờ', 'đa_số', 'phàm', 'hỏi_vợ', 'gươm', 'nguồn_lực', 'dân_tộc', 'luật_định', 'cách_ly', 'vote', 'nhục_nhã', 'crazy', 'xác_nhận_lời', 'thái_lan', 'saoooo', 'tưng_tưng', 'vi_khuẩn', 'vi_trùng', 'nấp', 'hiccc', 'hao_mòn', 'nhan_sắc', 'thương_yêu', 'ghê_á', 'ăn_bám', 'khá_giả', 'áy_náy', 'góp_ý_kiến', 'tằm', 'pg', 'hoả', 'cảnh_báo', 'nhẫn_nhịn', 'hơm', 'bài_học', 'tuốt', 'cận', 'mở_mắt', 'lien', 'rưng_rưng', 'quyền_lực', 'ngột', 'ngôn_ngữ', 'điểm_mù', 'vô_cảm', 'said', 'nôn', 'phong_thuỷ', 'nhọt', 'đíu', 'hỉu', 'triều_tiên', 'dòm', 'husky', 'lờ_đờ', 'phấn_đấu', 'toang_toác', 'ây', 'nháo_nhào', 'khà_khà', 'vi_vu', 'quyển', 'ngải_cứu', 'tác_dụng', 'truyện_cổ_tích', 'chua_lè', 'chua_loét', 'cơ_thể', 'đánh_đổi', 'kỳ_lạ', 'ez', 'danh_dự', 'nhân_phẩm', 'dme', 'ăn_theo', 'đột_nhiên', 'xôi', 'giản_dị', 'yêu_mến', 'sọt', 'đổi_thay', 'vuông', 'chung_quy', 'nịnh_nọt', 'ầm_ầm', 'niếm', 'con_heo', 'chịu_thua', 'giao_lưu', 'càn', 'cốt_lõi', 'then_chốt', 'thúc_đẩy', 'tiển', 'sách_lược', 'nỏ', 'thun', 'thẹn', 'đầu_lâu', 'cõng', 'đồng_bằng', 'bác_học', 'sàm_sỡ', 'bết', 'quì', 'trực_tiếp', 'miệt_thị', 'mặt_đường', 'hoài_niệm', 'bộ_đội', 'yếu_ớt', 'kiềm', 'hỉ', 'phò', 'ố', 'rùng_mình', 'lồng_lộng', 'bổ_sung', 'ngang_ngược', 'giám_khảo', 'tưong', 'chó_chết', 'tiếp_xúc', 'chắc_ăn', 'tê', 'chôm', 'ngàng', 'lập_luận', 'thú_y', 'dây_chằng', 'giòn', 'xuất_viện', 'sug', 'nhà_trẻ', 'túi_tiền', 'họa', 'grab', 'thơm_phức', 'hem', 'lám', 'ám', 'lạ_kì', 'vẫ', 'lợi_hại', 'nhũng', 'bản', 'quyết', 'ngăn', 'tiệt', 'kiệm', 'khai_sinh', 'bình_dị', 'thảo_nào', 'mõi', 'thích_thú', 'được_cái', 'lười_biếng', 'can', 'chinh', 'chính_quyền', 'bai', 'kỉu', 'chấy', 'chọc_tức', 'thử_nghiệm', 'nới', 'xò', 'live', 'stream', 'núc', 'bơm', 'dma', 'gă', 'lân', 'avenger', 'hehee', 'mỏi_mệt', 'tranh_cãi', 'cigar', 'am', 'thiền_định', 'tiếp_quản', 'thường_tình', 'giới', 'đại_tu', 'hỏi_han', 'ní', 'gãi', 'ứ', 'cơ_cực', 'dứt_khoát', 'nhận_diện', 'khí_chất', 'bão', 'giông', 'trợ_giúp', 'nhân_dân', 'mệ', 'fail', 'không_chừng', 'ca_sĩ', 'xáng', 'noi', 'hàn_gắn', 'bịa_đặt', 'bú', 'phũ', 'thiểu_năng', 'năng_lực', 'spider', 'bình_phục', 'căn_bản', 'dương', 'hoang_mang', 'rung', 'đôi_lứa', 'đạo_lý', 'có_thể_loại', 'xẩy', 'giáp', 'cổ_hủ', 'xiền', 'nguy_cơ', 'giáo_sư', 'giáo_trình', 'đai', 'giảm_tốc_độ', 'thạ', 'thế_ra', 'động_dục', 'vớ', 'halo', 'mua_bán', 'lồi_lõm', 'vòi', 'hoy', 'địa_phương', 'hụt', 'cũnh', 'chông', 'mộc', 'xử_lí', 'hèm', 'tắt_thở', 'huynh', 'không_lẽ', 'kím', 'ce', 'dược', 'mồi', 'mộ', 'thấp_thỏm', 'cứu_vớt', 'mặt_bằng', 'chíp', 'đuôi', 'input', 'thi_thoảng', 'lườm', 'mô_tả', 'vực', 'bao_biện', 'chửi_rủa', 'romantic', 'kiểm_soát', 'dắm', 'kiểm_điểm', 'gia_vị', 'pê', 'đài', 'táo', 'imdb', 'thời_đại', 'dây_điện', 'dăm', 'rê', 'bệnh_nhân', 'tía', 'thần_tượng', 'uoc', 'duoc', 'nhu', 'ngộ_nghĩnh', 'biến_động', 'thăng_trầm', 'chả_viên', 'hệ_thống', 'bật_tường', 'gắn', 'miên_man', 'báo_ứng', 'tẩy', 'hô_hào', 'nun', 'định_kì', 'mat', 'quân_nhân', 'tập_trận', 'pccc', 'thao_trường', 'chiến_trường', 'đổ_máu', 'bà_thảo', 'chăm_lo', 'gia_trưởng', 'vũ_phu', 'sát_cánh', 'ấp', 'tâm_trí', 'con_buôn', 'bọ_chét', 'cớ', 'hẩy', 'woa', 'kẹp', 'hịt', 'khênh', 'thế_chân', 'đạo_diễn', 'tài_ba', 'tk', 'vạn', 'để_dành', 'toán_học', 'single', 'mum', 'sức_lực', 'hành_xác', 'vẹo', 'hoàn_thiện', 'che_kín', 'quan_sát', 'xành', 'bàn_thờ', 'power', 'siêng_năng', 'tớn', 'phát_biểu', 'thực_dụng', 'nghìn_tỷ', 'rau', 'comt', 'vietsub', 'lồng_tiếng', 'ráo', 'ntmk', 'san', 'vấp_ngã', 'nước_hoa', 'real', 'vạch_mặt', 'block', 'xd', 'kỉ_yếu', 'ngói', 'sống_động', 'chừng', 'bảy', 'bưởi', 'cự', 'thoại', 'xãy', 'đâ', 'mo', 'thừa_thế', 'từ_bỏ_quá', 'dìm', 'ngư_dân', 'mách_lẻo', 'học_tập', 'photoshop', 'quy', 'thi_hành', 'công_vụ', 'khu_vực', 'loc', 'lõi', 'nguyên_chất', 'xã_giao', 'sự_tích', 'sát_hại', 'tu_hành', 'nhât', 'hoan_hỉ', 'lộc', 'tác_hại', 'cần_câu', 'chế_tạo', 'honda', 'sục', 'bình_xịt', 'xà', 'phồng', 'hô', 'đặng', 'đơn_thuần', 'mã', 'kinhh', 'liên_lạc', 'phảu', 'chứa_đựng', 'bí_mật', 'vùi', 'mứt', 'nhó', 'bê', 'daklak', 'khủng', 'né_tránh', 'chuyên_cơ', 'chiêc', 'trơi', 'mạ', 'thầm_lặng', 'gia_nhập', 'quát_mắng', 'fire', 'té_ra', 'fine', 'đh', 'everywhere', 'nhễ', 'quâ', 'qa', 'đỡ_đẻ', 'sáu', 'đậu_phộng', 'đề_cương', 'án_mạng', 'giàu_sang', 'phú_quý', 'sòng_phẳng', 'công_cốc', 'kì_vọng', 'sat', 'chuyên', 'tụ_tập', 'ngự', 'nhàn', 'kiểm_kê', 'toà_án', 'nùi', 'một_hai', 'mầm', 'chớm', 'xẹp_lép', 'lặng_im', 'mọc_sừng', 'toại_nguyện', 'nghệt', 'thuật', 'làm_chủ', 'làm_mướn', 'tương_tự', 'dòng_họ', 'un', 'nt', 'nặng_tình', 'trí_khôn', 'tiến_hóa', 'đẹp_đẽ', 'giai_điệu', 'lãnh', 'mở_màn', 'chúg', 'ngổng', 'bồi', 'ngày_sinh', 'ré', 'hoảng', 'nhởn', 'kinh_phí', 'dell', 'tỷ_lệ', 'nữa_là', 'nói_dối', 'truyền_cảm_hứng', 'khoan_dung', 'khinh_bỉ', 'đâu_đó', 'ủng_hộ', 'vít', 'gỗ', 'chở', 'cửa_mở', 'nhân_duyên', 'quad', 'học_giả', 'rả_rích', 'đăm_đăm', 'rôm_rả', 'giáo', 'dấu_ấn', 'hình_tượng', 'trãi', 'biệt_tích', 'nước_gạo', 'đùa_cợt', 'ý_nghĩ', 'ts', 'tiền_nong', 'tạp_chất', 'sự_nghiệp', 'hăm_hở', 'thậm_chí', 'hương_vị', 'chuỗi', 'tủi_nhục', 'inh_ỏi', 'quan_tài', 'nức_nở', 'bánh_tráng', 'đầm_đìa', 'dưa_gang', 'dưa_hấu', 'phượng', 'chót_vót', 'lừa_dối', 'ra_rìa', 'dày', 'vào_sổ', 'gội', 'còm', 'phức_tạp_hóa', 'say_mê', 'hình_bóng', 'tripod', 'chèn', 'thích_đáng', 'vặn', 'hiển', 'công_cộng', 'không_lưu', 'nung', 'thí', 'phệ', 'tập_huấn', 'tưng_tửng', 'thanh_tra', 'dễ_dãi', 'hứ', 'dv', 'phát_tán', 'virut', 'chợ_đen', 'trêu_chọc', 'rặt', 'dốc', 'quật', 'máu_lửa', 'ss', 'ra_gì', 'sang_năm', 'nhãi', 'nhào', 'babe', 'hoi', 'nằm_vùng', 'rầu', 'rủi', 'nách', 'trơ', 'cọng', 'tân', 'quá_tội', 'trắng_bóc', 'thị_trường', 'gờ', 'giảm_tốc', 'trẩu', 'hôi', 'truy', 'xác_chết', 'pháp_y', 'kỹ_sư', 'trắc_địa', 'paris', 'cảm_thông', 'cảm_động_lòng', 'ông_địa', 'marketing', 'dăm_bảy', 'đười_ươi', 'đào_thải', 'cơ_chế', 'xỏ', 'phản_cảm', 'âm_lịch', 'tên_tuổi', 'nghỉ_hè', 'xõa', 'nhà_báo', 'dở_hơi', 'protein', 'gìn_giữ', 'bảo_tồn', 'lo_nghĩ', 'hàn', 'bất_cẩn', 'chăng', 'có_nhân_tính', 'đoạt', 'oscar', 'mừng_quýnh', 'đánh_thức', 'năn_nỉ', 'gò', 'vấp', 'rành_rành', 'lọt_tai', 'chỉ_đạo', 'gây_sự', 'nản', 'thụ_động', 'chặn_đứng', 'hiện_tượng', 'xuống_cấp', 'vật_liệu', 'chập', 'cộng', 'ăn_tạp', 'thcs', 'phát_âm', 'giao_tiếp', 'phật', 'đại_gia_đình', 'yếu_kém', 'triệu_phú', 'ổ_chuột', 'sơ_sài', 'choét', 'làm_bộ_mặt', 'nhãn_vở', 'mỹ_thuật', 'tình_nguyện_viên', 'hủy', 'vr', 'dục', 'ngoe_nguẩy', 'đáng_lẽ', 'cạ', 'duới', 'amir', 'vol', 'gdinh', 'tự_chủ', 'hươu', 'vượn', 'mưa_gió', 'rét_mướt', 'công_ơn', 'súp_lơ', 'chi_phí', 'kiểm_toán', 'thổ_lộ', 'nhọc', 'nước_nôi', 'be_bét', 'tu_luyện', 'góp_phần', 'nhiếu', 'đất_sét', 'đển', 'phượng_hoàng', 'trấn', 'hồ_sơ', 'thái_bình', 'dầu_lửa', 'nặng_tay', 'cân_treo', 'diễn_tả', 'hẻm', 'cà_khịa', 'ị', 'tình_yêu_thương', 'ngĩ', 'biên_chế', 'chuyên_môn', 'báo_chí', 'phóng_viên', 'nghiêm', 'rét', 'tuyệt_chủng', 'tq', 'nhờn', 'bừa', 'điềm', 'như_thường', 'noel', 'nguyên_xi', 'next', 'kiều', 'dung', 'yên_ổn', 'lén_lút', 'tổng_giám_đốc', 'hu', 'phi_', 'phỏng_vấn', 'idol', 'skill', 'cơ_quan', 'điều_tra', 'danh_tính', 'tấu', 'âm_thanh', 'chối', 'câu_đầu_tiên', 'thoả_đáng', 'định_giá', 'hi', 'noa', 'trung_bình', 'làm_khách', 'qua_lại', 'siêu_thị', 'ác_cảm', 'lùm', 'thỉnh_thoảng', 'tẩy_trang', 'nguyên_hình', 'song_song', 'tính_tình', 'thử_thách', 'first', 'blood', 'double', 'ý_tứ', 'nhẹp', 'gấp_bội', 'than_thở', 'replay', 'đứng_tim', 'nhấp', 'muỗng', 'bạc', 'nói_tục', 'bần_hàn', 'tinh_trùng', 'bán_lẻ', 'nháy_mắt', 'chấp', 'hịn', 'cổ_nhân', 'vọt', 'biểu_cảm', 'phét', 'có_ích', 'quý_báu', 'sinh_mạng', 'sắm', 'biết_nghĩ', 'đức_hạnh', 'cao_cả', 'on', 'nãn', 'suất', 'quấy_rối', 'mịe', 'khốn_kiếp', 'quả_lừa', 'bờ_rào', 'huỷ_hoại', 'mầm_mống', 'vồ', 'lù', 'unlike', 'yêu_cầu', 'sub', 'bt', 'lạng_lách', 'thíck', 'cã', 'đồng_thanh', 'lớ', 'nga', 'lớ_ngớ', 'tự_phát', 'tàn_nhang', 'bỗng', 'ập', 'thọ', 'smart', 'phone', 'idiots', 'tư_sản', 'mại_bản', 'đậu_xanh', 'giỡn', 'laptop', 'hình_vẽ', 'buồn_tẻ', 'bất_công', 'khai_giảng', 'sai_phạm', 'biện_pháp', 'chấm_dứt', 'tan_tành', 'tẹo', 'thẳng_tay', 'mưu_cầu', 'chết_tươi', 'ẹc', 'rược', 'sùm', 'hắt', 'nước_tiểu', 'bấy', 'bề', 'kiê', 'thọc', 'ung_thư', 'tinh', 'hung_ác', 'vơ', 'có_ăn', 'hướng_dẫn', 'rước', 'lún', 'bất', 'dì', 'quết', 'nuôi_dưỡng', 'unesco', 'kỳ_quan', 'chộm', 'chẳng_những', 'nhẹ_nhõm', 'cảnh_ngộ', 'dắt_mũi', 'au', 'trá_hình', 'khì', 'xinh_xắn', 'ngăn_chặn', 'lội', 'không_những', 'thổ', 'aumobile', 'sa_tế', 'bắt_gặp', 'bơ', 'luyện', 'sấp', 'quái_ác', 'ăn_chay', 'bống', 'axit', 'rồ', 'is', 'cổ_chân', 'năng', 'cại', 'chậy', 'giấc', 'ví_dụ', 'không_tưởng', 'bao_tay', 'nhân_đạo', 'cool', 'quí_trọng', 'hình_hài', 'khôn_ngoan', 'phắng', 'nói_thẳng', 'đồng_hành', 'học_trò', 'hồn_nhiên', 'hòm', 'lip', 'đi_cầu', 'từ_biệt', 'rướn', 'pizza', 'kv', 'bình_chánh', 'thành_phần_nào', 'ăn_hiếp', 'vi_sóng', 'hjhj', 'ngoại_tình', 'phàn_nàn', 'rành', 'full', 'đương_đầu', 'vạch', 'làm_nên', 'sốn', 'wao', 'đề_kháng', 'ct', 'nhay', 'ngưỡng', 'bùng_phát', 'phương', 'trường_học', 'chuyên_mục', 'đã_đành', 'sở', 'khanh', 'cẩn_trọng', 'giầy', 'thấu_hiểu', 'icon', 'bcs', 'sag', 'đánh_lộn', 'thuần_phong', 'mỹ_tục', 'ngoa', 'ống', 'tự_do', 'phịch', 'lang_thang', 'vô_nghĩa', 'mìh', 'khổ_tâm', 'bong', 'chó_đẻ', 'rao_giảng', 'nằm_xuống', 'thiên_thời', 'địa_lợi', 'văn_chương', 'thân_thiện', 'tiến_hoá', 'đút', 'lia_lịa', 'oanh_liệt', 'hình_học', 'xe_tải', 'rubic', 'kinh_ngạc', 'mười', 'đấu_trường', 'tứ_linh', 'đao', 'trán', 'làm_phước', 'dư_thừa', 'lò_xo', 'đi_tu', 'ngu_ngơ', 'quốc_khánh', 'bó', 'nhâu', 'tranh_thủ', 'đx', 'nhận_thức', 'thở_dài', 'kịch_tính', 'fr', 'mood', 'nhà_nghỉ', 'chau', 'say_đắm', 'nhói', 'nhích', 'thời_thế', 'đại_loại', 'trai_trẻ', 'đất_đai', 'helo', 'khuya', 'thưởng_thức', 'dống', 'bấy_nhiêu', 'bản_quyền', 'luyến_tiếc', 'ân_cần', 'vũ_khí', 'sinh_học', 'mini', 'giả_sử', 'bỏ_túi', 'lọ', 'never', 'muỗi', 'ăn_liền', 'thiệt_thân', 'trước_hết', 'neu', 'nết', 'nguoi', 'dòng_chảy', 'gạt', 'camry', 'hoang', 'cẩm_ly', 'thành_tâm', 'ghẻ_lạnh', 'tiếp_cận', 'ex', 'bùng', 'nỗ', 'nén', 'cường_quốc', 'hung', 'chuyển_biến', 'cơm_bữa', 'véo', 'siro', 'tức_cười', 'dễ_thở', 'quét_dọn', 'đoá', 'xem_ra', 'giá_cả', 'ẳm', 'sấu', 'tử', 'bình_an', 'làm_chi', 'nờ', 'nện', 'giúp_đỡ', 'nhen', 'phìm', 'hướng_nội', 'cao_thế', 'chạp', 'bh', 'trao_đổi', 'chà_đạp', 'giãy_nảy', 'đỉa', 'vôi', 'trọng_đại', 'phan', 'suy_ngẫm', 'nghia', 'chưng', 'liết', 'khẳng_định', 'chứng_tỏ', 'anh_hùng', 'lưu_ý', 'nhà_hàng', 'li_hôn', 'giảm_giá', 'rỉ', 'sét', 'đep', 'ỏ', 'lẻ', 'nầy', 'chăn_nuôi', 'gia_súc', 'pháo', 'bụt', 'sát_thương', 'bỏ_qua', 'sì', 'tàn_tật', 'tương_tác', 'đk', 'đượm', 'chg', 'bb', 'toàn_bộ', 'cảnh_vật', 'quen_thuộc', 'ngân_sách', 'sửa_sai_lầm', 'đơn_vị', 'tư_pháp', 'lên_tiếng', 'hám', 'thu_ngân', 'hầu_hết', 'karaok', 'phụ_thu', 'nước_ngọt', 'rát', 'thoy', 'tình_báo', 'mẹt', 'hờn_dỗi', 'huyện', 'nghiên_cứu_viên', 'cao_cấp', 'ốp', 'content', 'vk', 'bảo_bối', 'liều_lĩnh', 'lạc_hậu', 'nhịp', 'xl', 'thoa', 'chẳng_qua', 'hoàng_hôn', 'úa', 'justin', 'bieber', 'cừng', 'nguyen', 'liếc', 'boom', 'cá_chép', 'rồng', 'vẫy_vùng', 'hành_vi', 'nội_tâm', 'bong_bóng', 'phát_nổ', 'cia', 'nhy', 'tịnh', 'mác', 'tăm_tối', 'ava', 'pug', 'nghị', 'khởi_tố', 'thổ_nhưỡng', 'tung_hô', 'dải', 'qúa', 'chương', 'làm_bạn', 'nữ_sinh', 'cãi_lộn', 'xuân', 'đúng_đắn', 'follow', 'công_viên', 'nứng', 'con_một', 'niêm', 'ngài', 'lặp', 'thần_sắc', 'thiếu_điều', 'chủ_đề', 'incheon', 'tỉnh_giấc', 'xùm', 'thiêu', 'axít', 'đậm_đặc', 'nhựa', 'tạp_hoá', 'lúng', 'chậm', 'băng_keo', 'công_sức', 'ủi', 'đãi', 'đáng_giá', 'tha_hồ', 'rác_thải', 'nảy', 'mạnh_khoẻ', 'ăn_bớt', 'lả', 'chức_quyền', 'bánh_mì', 'chức', 'trieu', 'mục', 'gia_cầm', 'nhì', 'tẩm_bổ', 'huy', 'chứng_khoán', 'nghĩ_ngợi', 'nẩy', 'tâng_tâng', 'hố_xí', 'sàm', 'típ', 'hách_dịch', 'cõi_lòng', 'thượng_đế', 'cắt_tiết', 'kô', 'ngoan_ngoãn', 'okay', 'mở_miệng', 'vửa', 'phối', 'vô_địch', 'clm', 'võ_nghệ', 'cao_siêu', 'phụ_thuộc', 'hung_khí', 'câm', 'quân', 'triển_lãm', 'truy_cứu', 'căn', 'ngắm_nghía', 'rối_bời', 'all', 'hmm', 'xoè', 'xưa_nay', 'trả_góp', 'sặc_sụa', 'tg', 'quốc_hội', 'vẽ_chuyện', 'quy_mô', 'đối_tác', 'nham', 'toác', 'song', 'chẳng_thể', 'valungtung', 'tanh_bành', 'thủ', 'sẵn', 'hoạng', 'mủ', 'tiến_sĩ', 'thạc_sĩ', 'hình_như_ai', 'dối_trá', 'xanh_mắt', 'lap', 'áo_đầm', 'bất_lực', 'hk', 'động_chạm', 'nhò', 'lộng_hành', 'cuồng_si', 'đa_cấp', 'na_ná', 'why', 'nhắng_nhít', 'hệ', 'mặt_trời', 'tay_lái', 'trốn_tránh', 'đèn_đỏ', 'căm_thù', 'họng', 'lu_mờ', 'không_gian', 'ngập', 'thình_thịch', 'tàu_nhanh', 'clone', 'luộc', 'zombie', 'xúc_động', 'võ_công', 'đùng', 'nguy_hại', 'nghiêp', 'anh_minh', 'định_kiến', 'khắc_nghiệt', 'quẩn', 'tuyên_bố', 'ngơ', 'ju', 'jin', 'thân_thể', 'rán', 'có_khi', 'thu_hút', 'lóc', 'tắm_rửa', 'bản_gốc', 'bản_sao', 'nhè', 'nhường_nhịn', 'bòn_bon', 'good', 'doctor', 'chị_gái', 'nhật_ký', 'hũ', 'mắm_tép', 'and', 'đii', 'kinh_tởm', 'soái', 'cug', 'mây', 'nhè_nhẹ', 'hiu_hiu', 'bthg', 'đồng_chí', 'giã', 'rần_rần', 'tv', 'đồng_nghĩa', 'ghim', 'yên_bình', 'đáp_số', 'khoanh', 'sự_cố', 'kỷ_luật', 'vây', 'bằng_không', 'dong', 'mưu_mô', 'xảo_quyệt', 'vượt', 'sạc', 'sến', 'súa', 'cầu_kì', 'ô_nhục', 'ngon_ăn', 'hịu', 'sửu', 'nhi', 'couple', 'tần', 'lệnh', 'tạm', 'công_bố', 'léo_nhéo', 'hoạt_hình', 'xới', 'khét_lẹt', 'rún', 'kéo_lại', 'bằng_lòng', 'trg', 'vks', 'tận_tâm', 'tờ_rơi', 'skin', 'yasuo', 'bàn_luận', 'dữ_dội', 'vạy', 'xù', 'nhạo', 'đoan', 'nếu_như', 'nếm', 'đại_cao_thủ', 'xe_bò', 'mả', 'quây', 'cuộc_chơi', 'miss', 'mù_quáng', 'giao_phối', 'quẩy', 'viêm', 'màn', 'danh_hài', 'topic', 'anh_trai', 'khám_phá', 'bằng_cấp', 'ăn_tiêu', 'lu', 'miên', 'nl', 'lon', 'hoang_đường', 'cô_giáo_chủ_nhiệm', 'tráo_trở', 'thương_xót', 'zị', 'phạm_tội', 'ẩn', 'mũm_mĩm', 'dzậy', 'bị_gậy', 'đóng_dấu', 'lõi_đời', 'tạm_thời', 'ru', 'vua', 'phi_hành_gia', 'lăng_loàn', 'yếu_thế', 'khôg', 'tử_tế', 'kinh_hồn', 'đánh_rắm', 'tuổi_tác', 'cử_chỉ', 'tục_tĩu', 'ranh_giới', 'vãn', 'cố_chấp', 'tội_phạm', 'lì', 'úp', 'quánh', 'hết_hơi', 'đỏ_hỏn', 'nghiền', 'hành_lang', 'đường_sắt', 'liệt', 'tự_tử', 'tập_trung', 'giỗ', 'có_lí_do', 'thuyết', 'bầu_trời', 'một_hơi', 'lơ_lửng', 'thì_thầm', 'dượng', 'đứt_ruột', 'nhắm', 'dhs', 'style', 'yếu_tố', 'ph', 'bỏ_mình', 'lốp', 'kịp_thời', 'dưỡng', 'tập_thể', 'thành_viên', 'gvcn', 'vô_lí', 'có_lý', 'đưa_đón', 'hầu', 'đục_khoét', 'duyên_dáng', 'nặng_nề', 'xỉn', 'đầu_vào', 'vừa_mới', 'hqua', 'thực_lực', 'mật_vụ', 'điện_thế', 'thoả', 'để_tâm', 'thự', 'mv', 'phải_biết', 'tâm_thần', 'rắn_rết', 'đại_từ', 'lắc', 'hạ_cánh', 'lổi', 'kỹ_thuật', 'thừng', 'xẻ', 'ngậm_ngùi', 'tạ', 'nghiêm_chỉnh', 'đồ_đạc', 'hẳn_hoi', 'ngạt', 'xu', 'kếch_xù', 'sụp', 'téo', 'đường_thẳng', 'bịp', 'sms', 'cr', 'nhái', 'wtf', 'trỗ', 'của_cải', 'ý_chí', 'chí', 'tiến_thủ', 'quyến_rũ', 'cán', 'every', 'where', 'giằng_xé', 'điển_trai', 'máy_tính', 'húp', 'mới_đó', 'hòi', 'hun', 'nhéo', 'quỳnh', 'xiu', 'tiểu_thuyết', 'quan_niệm', 'hiến', 'chẳng_hạn', 'vui_chơi', 'thì_thôi', 'mua_chuộc', 'eo_ôi', 'rốt_cuộc', 'cồng', 'kền', 'tin_vui', 'bà_con', 'chuân', 'chiện', 'khẩn_cấp', 'hnao', 'nhằng_nhằng', 'khai_phá', 'vững_tâm', 'điều_độ', 'nửa_đêm', 'hò_hét', 'nỗ_lực', 'valentine', 'phượt', 'bữa_nay', 'vô_lăng', 'tỳ', 'mít_ướt', 'trót', 've_sầu', 'xinh_đẹp', 'bán_hoa', 'trổi', 'đẹp_lão', 'giay', 'đời_mới', 'nhập_viện', 'xong_đời', 'nthe', 'gia_công', 'sản_xuất', 'thương_hiệu', 'quốc_gia', 'khát_vọng', 'tua', 'vô_cực', 'gởi', 'phiêu_lưu', 'lạc_lõng', 'tềnh', 'lú', 'gạ', 'nốt_nhạc', 'trung_ương', 'đoi', 'run_rẩy', 'săn_sóc', 'bảo_kê', 'tán_loạn', 'vô_ơn', 'ba_má', 'kê', 'phong_độ', 'ăn_mặc', 'kia_mà', 'đôi_co', 'douma', 'nài_nỉ', 'vừa_rồi', 'ít_ra', 'êm', 're', 'quá_chừng', 'chà_bá', 'nhừ_tử', 'kìm_nén', 'huawei', 'nhân_tài', 'công_trình', 'năm_tuổi', 'không_khéo', 'toe_toét', 'trống_vắng', 'tôn', 'lợp', 'đẹo', 'yêu_quý', 'hiền_thục', 'tâm_tính', 'hiếu_thảo', 'tổ_quốc', 'dê', 'thọt', 'chiến_tích', 'bực_mình', 'ùa', 'vỗ_tay', 'thu_thập', 'trạng_thái', 'thế_kỷ', 'tiêu_tan', 'kĩ_lưỡng', 'tác_phong', 'ruộng', 'lạ_lẫm', 'khởi', 'song_hành', 'nasa', 'kênh', 'bắt_cái', 'nợ_nần', 'chồng_chất', 'đại_lý', 'phất', 'cọ', 'phiên_bản', 'lê', 'nước_mắm', 'ngư', 'súng_ống', 'chét', 'miễn_sao', 'bền_vững', 'gét', 'mất_hút', 'tê_tê', 'như_không', 'đẫy_đà', 'ngon_ngọt', 'chêu', 'khái_niệm', 'hello', 'thực_hiện', 'gian', 'âu', 'chấn_thương', 'xúm', 'hội_đồng', 'tài_nguyên', 'bộ_óc', 'tài_giỏi', 'ngắn_hạn', 'dẫn_dắt', 'giếng', 'huế', 'phẳng_lặng', 'nèo', 'phước', 'chủ_lực', 'bi_đát', 'tâm_sức', 'lòng_dạ', 'sỏi', 'khiếu_nại', 'bao_che', 'hàng_họ', 'nhạt_nhẽo', 'di_sản', 'chứng_tích', 'tích_tụ', 'sâu_lắng', 'ồ_ồ', 'kỷ', 'ngớ_ngẩn', 'rũ', 'chửa', 'ngoc', 'hen', 'chính_hiệu', 'giấc_ngủ', 'anime', 'buff', 'lộn_xộn', 'vô_giá', 'thay_thế', 'hicc', 'ốc', 'bạo', 'chắc_hẳn', 'guitar', 'bây_giờ_đây', 'tài_chính', 'dụng_võ', 'rồi_đây', 'chạm', 'youtuber', 'sảng_khoái', 'lồ', 'quằn', 'thiến', 'bắp_tay', 'hờn', 'polime', 'rụng_rời', 'đếch', 'giải_tán', 'hối_tiếc', 'nhu_nhược', 'mảng', 'tuyên_truyền', 'rủi_ro', 'ăn_cám', 'quen_biết', 'giùm', 'sất', 'mới_phải', 'soạn', 'hạn_hẹp', 'làm_ơn', 'có_tình', 'dân_chơi', 'mặc_niệm', 'vong_linh', 'sân_bay', 'mô', 'ngây', 'xâ', 'mario', 'zồi', 'tú', 'giáo_khoa', 'nâu', 'mừ', 'mưu_sinh', 'chửi_mắng', 'lắng_nghe', 'xấc_xược', 'tỏ_vẻ', 'ta_đây', 'chỉa', 'trym', 'khắm', 'adim', 'mớm', 'công_sở', 'khiếu', 'vui_tươi', 'khích_lệ', 'nhình', 'cảm_tình', 'coffee', 'chong_chóng', 'mượt', 'truyền_thống', 'tác', 'cổ_phần', 'lan', 'nk', 'thé', 'bổn', 'hihihi', 'loat', 'nhẫn_tâm', 'call', 'mất_tích', 'nhân_quả', 'cho_dù', 'kinh_điển', 'siêng', 'miễn_là', 'bảo_tàng', 'hc', 'nghiên_cứu', 'tê_giác', 'chữa', 'truy_nã', 'miến', 'kiêng_nể', 'rình_rập', 'trắc', 'bệnh_tật', 'nhập_nhằng', 'bẩn_thỉu', 'quê_quán', 'group', 'cuộn', 'keo', 'internet', 'ngốc_nghếch', 'cúi', 'sơ_hở', 'rón_rén', 'đớp', 'ngờ_nghệch', 'nấy', 'xã', 'quả_đất', 'nhà_lầu', 'đùn_đẩy', 'li_kì', 'sạt_nghiệp', 'mấu_chốt', 'ứng_dụng', 'hana', 'sát', 'đồng_tính', 'thượng_hạng', 'đục', 'ốm_đau', 'vỏn_vẹn', 'sáng_kiến', 'tiêu_hủy', 'tình_nghĩa', 'than_vãn', 'bon_chen', 'giành', 'con_trẻ', 'đớn_đau', 'đau_buồn', 'khát', 'cườ', 'lệch', 'tươi_cười', 'niềm_nở', 'đầu_thai', 'tháy', 'lo_lắng', 'cng', 'lâu_lắc', 'vừa_ý_nghĩa', 'gắng', 'lan_tỏa', 'masage', 'chạy_điện', 'choáng', 'mề', 'ngọai', 'nưa', 'khế', 'nhà_giáo', 'xoá_sổ', 'toàn_phần', 'cơ_sở', 'tiêm', 'thuốc_độc', 'binh', 'giám', 'tố_cáo', 'thẩm_phán', 'heheh', 'lồng_lộn', 'evn', 'lươn_lẹo', 'ông_tổ', 'đĩ_điếm', 'ỉn', 'chạ', 'tiếng_thế', 'thượt', 'chồi', 'trống_rỗng', 'sao_chép', 'phựt', 'cơ_bản', 'cảnh_tỉnh', 'hiện_nay', 'bỏ_bà', 'bục', 'giảng', 'sểnh', 'tỵ', 'lạm_dụng', 'tách', 'lỏng_lẻo', 'nhỡ', 'đn', 'địa_chỉ', 'treo', 'tiêu_chuẩn', 'tml', 'cất', 'tủi_hổ', 'hình_dạng', 'viết_tay', 'nhài', 'giả_dối', 'guru', 'rủa', 'lẩu', 'ấu', 'mất_giá', 'hợp_tác', 'chiến_lược', 'nam_tính', 'chi_tử', 'ngặt', 'ngăn_cản', 'kịch_liệt', 'ron', 'khích', 'vinh_quang', 'nicholas', 'liang', 'chyện', 'to_đùng', 'năng_lượng', 'chỉnh_hình', 'sườn', 'truất', 'tròn', 'ung_ủng', 'ngẵn', 'rau_má', 'về_vườn', 'hoan', 'hy', 'hả_hê', 'cửa_sổ', 'thõa', 'ghê_gớm', 'l', 'chìa_khoá', 'tự_tin', 'kịp_thời_đại', 'rựa', 'nhất_thiết', 'cầu_đường', 'lan_can', 'cây_cối', 'y_nguyên', 'ngần', 'khuất', 'chs', 'lạp_xưởng', 'buồn_bực', 'căm', 'xuýt', 'tự_động', 'độc_nhất', 'nhị', 'ghẻ', 'tạo_hoá', 'lố_lăng', 'truong', 'hop', 'su', 'lam', 'xua', 'sanh', 'khám', 'đàng', 'thoả_mãn', 'thực_đơn', 'suy_sụp', 'bảo_đảm', 'tiêu_chảy', 'kèm', 'chẳng_lẽ', 'sh', 'ngông_nghênh', 'sĩ', 'lợi', 'note', 'ghi_chú', 'ký_túc_xá', 'gắt_gỏng', 'trong_sáng', 'heee', 'riền', 'áo_quần', 'tóc_tai', 'lủng', 'hàng_rào', 'vê', 'nghiệm', 'lom', 'dom', 'nghe_ngóng', 'buồng_trứng', 'tình_nhân', 'biet', 'tiep', 'mới_đầu', 'hiếm', 'sáp', 'tnao', 'khỏe_mạnh', 'rú', 'lầm_lì', 'mợt', 'ngữ_khí', 'găng_tay', 'lết', 'balo', 'chững_chạc', 'vắng', 'vừa_qua', 'abcxyz', 'vật_lý', 'logic', 'mền', 'pải', 'mạnh_dạn', 'rv', 'bùa', 'ngải', 'nước_miếng', 'nhưnh', 'vương_miện', 'thix', 'ipx', 'ngơ_ngác', 'chết_cha', 'nước_đái', 'gơm', 'xồ', 'kakaka', 'cắp', 'quái_đản', 'găp', 'lơn', 'thất', 'nhảy_múa', 'ngất_xỉu', 'tĩnh', 'sau_cùng', 'trầm_trọng', 'ùi', 'suong', 'bjt', 'đuông', 'dừa', 'đư', 'queo', 'nhan', 'nhỏ_nhoi']\n"
          ],
          "name": "stdout"
        }
      ]
    },
    {
      "cell_type": "markdown",
      "metadata": {
        "id": "VjvoCKFAsKEK"
      },
      "source": [
        "# VI.Attention Layer"
      ]
    },
    {
      "cell_type": "code",
      "metadata": {
        "id": "8oYeHeBL-wqO"
      },
      "source": [
        "def dot_product(x, kernel):\n",
        "\tif K.backend() == 'tensorflow':\n",
        "\t\treturn K.squeeze(K.dot(x, K.expand_dims(kernel)), axis=-1)\n",
        "\telse:\n",
        "\t\treturn K.dot(x, kernel)\n",
        "\n",
        "class AttentionWithContext(Layer):\n",
        "\tdef __init__(self,\n",
        "\t\t\t\t W_regularizer=None, u_regularizer=None, b_regularizer=None,\n",
        "\t\t\t\t W_constraint=None, u_constraint=None, b_constraint=None,\n",
        "\t\t\t\t bias=True, **kwargs):\n",
        "\n",
        "\t\tself.supports_masking = True\n",
        "\t\tself.init = initializers.get('glorot_uniform')\n",
        "\n",
        "\t\tself.W_regularizer = regularizers.get(W_regularizer)\n",
        "\t\tself.u_regularizer = regularizers.get(u_regularizer)\n",
        "\t\tself.b_regularizer = regularizers.get(b_regularizer)\n",
        "\n",
        "\t\tself.W_constraint = constraints.get(W_constraint)\n",
        "\t\tself.u_constraint = constraints.get(u_constraint)\n",
        "\t\tself.b_constraint = constraints.get(b_constraint)\n",
        "\n",
        "\t\tself.bias = bias\n",
        "\t\tsuper(AttentionWithContext, self).__init__(**kwargs)\n",
        "\n",
        "\tdef build(self, input_shape):\n",
        "\t\tassert len(input_shape) == 3\n",
        "\n",
        "\t\tself.W = self.add_weight((input_shape[-1], input_shape[-1],),\n",
        "\t\t\t\t\t\t\t\t initializer=self.init,\n",
        "\t\t\t\t\t\t\t\t name='{}_W'.format(self.name),\n",
        "\t\t\t\t\t\t\t\t regularizer=self.W_regularizer,\n",
        "\t\t\t\t\t\t\t\t constraint=self.W_constraint)\n",
        "\t\tif self.bias:\n",
        "\t\t\tself.b = self.add_weight((input_shape[-1],),\n",
        "\t\t\t\t\t\t\t\t\t initializer='zero',\n",
        "\t\t\t\t\t\t\t\t\t name='{}_b'.format(self.name),\n",
        "\t\t\t\t\t\t\t\t\t regularizer=self.b_regularizer,\n",
        "\t\t\t\t\t\t\t\t\t constraint=self.b_constraint)\n",
        "\n",
        "\t\tself.u = self.add_weight((input_shape[-1],),\n",
        "\t\t\t\t\t\t\t\t initializer=self.init,\n",
        "\t\t\t\t\t\t\t\t name='{}_u'.format(self.name),\n",
        "\t\t\t\t\t\t\t\t regularizer=self.u_regularizer,\n",
        "\t\t\t\t\t\t\t\t constraint=self.u_constraint)\n",
        "\n",
        "\t\tsuper(AttentionWithContext, self).build(input_shape)\n",
        "\n",
        "\tdef compute_mask(self, input, input_mask=None):\n",
        "\t\t# do not pass the mask to the next layers\n",
        "\t\treturn None\n",
        "\n",
        "\tdef call(self, x, mask=None):\n",
        "\t\tuit = dot_product(x, self.W)\n",
        "\n",
        "\t\tif self.bias:\n",
        "\t\t\tuit += self.b\n",
        "\n",
        "\t\tuit = K.tanh(uit)\n",
        "\t\tait = dot_product(uit, self.u)\n",
        "\n",
        "\t\ta = K.exp(ait)\n",
        "\n",
        "\t\tif mask is not None:\n",
        "\t\t\ta *= K.cast(mask, K.floatx())\n",
        "\t\ta /= K.cast(K.sum(a, axis=1, keepdims=True) + K.epsilon(), K.floatx())\n",
        "\n",
        "\t\ta = K.expand_dims(a)\n",
        "\t\tweighted_input = x * a\n",
        "\t\t\n",
        "\t\treturn weighted_input\n",
        "\n",
        "\tdef compute_output_shape(self, input_shape):\n",
        "\t\treturn input_shape[0], input_shape[1], input_shape[2]\n",
        "\t\n",
        "class Addition(Layer):\n",
        "\tdef __init__(self, **kwargs):\n",
        "\t\tsuper(Addition, self).__init__(**kwargs)\n",
        "\n",
        "\tdef build(self, input_shape):\n",
        "\t\tself.output_dim = input_shape[-1]\n",
        "\t\tsuper(Addition, self).build(input_shape)\n",
        "\n",
        "\tdef call(self, x):\n",
        "\t\treturn K.sum(x, axis=1)\n",
        "\n",
        "\tdef compute_output_shape(self, input_shape):\n",
        "\t\treturn (input_shape[0], self.output_dim)"
      ],
      "execution_count": 19,
      "outputs": []
    },
    {
      "cell_type": "markdown",
      "metadata": {
        "id": "OrCQ522csUQ0"
      },
      "source": [
        "## 1.Build mode LSTM"
      ]
    },
    {
      "cell_type": "code",
      "metadata": {
        "id": "8b-4SQdfzFQ8",
        "colab": {
          "base_uri": "https://localhost:8080/"
        },
        "outputId": "441b1d8e-208b-4dc9-8d3d-d175a67c9cfc"
      },
      "source": [
        "filter_nums = 256 # best 128\n",
        "def build_model():\n",
        "        inputs  = Input(shape=(maxLength, ), dtype='float64', name='inputs')    \n",
        "        embedding_layer = Embedding(input_vocab_size,EMBEDDING_DIM,weights=[embedding_matrix], input_length=maxLength, trainable=True,name = 'word_emb')(inputs)\n",
        "        embedding_layer = SpatialDropout1D(0.75)(embedding_layer)\n",
        "                \n",
        "              \n",
        "        lstm_feature1 = CuDNNLSTM(filter_nums, return_sequences=True)(embedding_layer)\n",
        "\n",
        "        att1 = AttentionWithContext()(lstm_feature1)\n",
        "        att1 = Addition()(att1)\n",
        "\n",
        "        fc1 = Dropout(0.5)(Dense(256, name = 'dense_1')(att1))\n",
        "        output1 = Dense(len(classes),name=\"output1\", activation='softmax')(fc1)\n",
        "\n",
        "    \n",
        "        # define optimizer\n",
        "\n",
        "        model = Model(inputs=inputs, outputs=output1)\n",
        "        tensorBoardCallback = TensorBoard(log_dir='./logs', write_graph=True)\n",
        "        \n",
        "        model.compile(loss = 'categorical_crossentropy', optimizer='adam', metrics=['accuracy'])\n",
        "\n",
        "        \n",
        "        history = model.fit(X_train_encode, np.array(y_train_encode), validation_data = (X_val_encode,np.array(y_val_encode)) , batch_size=50, epochs=100,callbacks=[tensorBoardCallback])\n",
        "        return model\n",
        "\n",
        "model = build_model()"
      ],
      "execution_count": 20,
      "outputs": [
        {
          "output_type": "stream",
          "text": [
            "WARNING:tensorflow:From /usr/local/lib/python3.7/dist-packages/keras/backend/tensorflow_backend.py:541: The name tf.placeholder is deprecated. Please use tf.compat.v1.placeholder instead.\n",
            "\n",
            "WARNING:tensorflow:From /usr/local/lib/python3.7/dist-packages/keras/backend/tensorflow_backend.py:4432: The name tf.random_uniform is deprecated. Please use tf.random.uniform instead.\n",
            "\n",
            "WARNING:tensorflow:From /usr/local/lib/python3.7/dist-packages/keras/backend/tensorflow_backend.py:190: The name tf.get_default_session is deprecated. Please use tf.compat.v1.get_default_session instead.\n",
            "\n",
            "WARNING:tensorflow:From /usr/local/lib/python3.7/dist-packages/keras/backend/tensorflow_backend.py:197: The name tf.ConfigProto is deprecated. Please use tf.compat.v1.ConfigProto instead.\n",
            "\n",
            "WARNING:tensorflow:From /usr/local/lib/python3.7/dist-packages/keras/backend/tensorflow_backend.py:203: The name tf.Session is deprecated. Please use tf.compat.v1.Session instead.\n",
            "\n",
            "WARNING:tensorflow:From /usr/local/lib/python3.7/dist-packages/keras/backend/tensorflow_backend.py:207: The name tf.global_variables is deprecated. Please use tf.compat.v1.global_variables instead.\n",
            "\n",
            "WARNING:tensorflow:From /usr/local/lib/python3.7/dist-packages/keras/backend/tensorflow_backend.py:216: The name tf.is_variable_initialized is deprecated. Please use tf.compat.v1.is_variable_initialized instead.\n",
            "\n",
            "WARNING:tensorflow:From /usr/local/lib/python3.7/dist-packages/keras/backend/tensorflow_backend.py:223: The name tf.variables_initializer is deprecated. Please use tf.compat.v1.variables_initializer instead.\n",
            "\n",
            "WARNING:tensorflow:From /usr/local/lib/python3.7/dist-packages/keras/backend/tensorflow_backend.py:66: The name tf.get_default_graph is deprecated. Please use tf.compat.v1.get_default_graph instead.\n",
            "\n",
            "WARNING:tensorflow:From /usr/local/lib/python3.7/dist-packages/keras/backend/tensorflow_backend.py:148: The name tf.placeholder_with_default is deprecated. Please use tf.compat.v1.placeholder_with_default instead.\n",
            "\n",
            "WARNING:tensorflow:From /usr/local/lib/python3.7/dist-packages/keras/backend/tensorflow_backend.py:3733: calling dropout (from tensorflow.python.ops.nn_ops) with keep_prob is deprecated and will be removed in a future version.\n",
            "Instructions for updating:\n",
            "Please use `rate` instead of `keep_prob`. Rate should be set to `rate = 1 - keep_prob`.\n",
            "WARNING:tensorflow:Large dropout rate: 0.75 (>0.5). In TensorFlow 2.x, dropout() uses dropout rate instead of keep_prob. Please ensure that this is intended.\n",
            "WARNING:tensorflow:From /usr/local/lib/python3.7/dist-packages/keras/optimizers.py:793: The name tf.train.Optimizer is deprecated. Please use tf.compat.v1.train.Optimizer instead.\n",
            "\n",
            "WARNING:tensorflow:From /usr/local/lib/python3.7/dist-packages/keras/backend/tensorflow_backend.py:3576: The name tf.log is deprecated. Please use tf.math.log instead.\n",
            "\n",
            "WARNING:tensorflow:From /tensorflow-1.15.2/python3.7/tensorflow_core/python/ops/math_grad.py:1424: where (from tensorflow.python.ops.array_ops) is deprecated and will be removed in a future version.\n",
            "Instructions for updating:\n",
            "Use tf.where in 2.0, which has the same broadcast rule as np.where\n",
            "WARNING:tensorflow:From /usr/local/lib/python3.7/dist-packages/keras/backend/tensorflow_backend.py:1033: The name tf.assign_add is deprecated. Please use tf.compat.v1.assign_add instead.\n",
            "\n",
            "WARNING:tensorflow:From /usr/local/lib/python3.7/dist-packages/keras/backend/tensorflow_backend.py:1020: The name tf.assign is deprecated. Please use tf.compat.v1.assign instead.\n",
            "\n",
            "Train on 5548 samples, validate on 686 samples\n",
            "WARNING:tensorflow:From /usr/local/lib/python3.7/dist-packages/keras/callbacks.py:1122: The name tf.summary.merge_all is deprecated. Please use tf.compat.v1.summary.merge_all instead.\n",
            "\n",
            "WARNING:tensorflow:From /usr/local/lib/python3.7/dist-packages/keras/callbacks.py:1125: The name tf.summary.FileWriter is deprecated. Please use tf.compat.v1.summary.FileWriter instead.\n",
            "\n",
            "Epoch 1/100\n",
            "5548/5548 [==============================] - 9s 2ms/step - loss: 1.7756 - acc: 0.2902 - val_loss: 1.7508 - val_acc: 0.3469\n",
            "WARNING:tensorflow:From /usr/local/lib/python3.7/dist-packages/keras/callbacks.py:1265: The name tf.Summary is deprecated. Please use tf.compat.v1.Summary instead.\n",
            "\n",
            "Epoch 2/100\n",
            "5548/5548 [==============================] - 2s 426us/step - loss: 1.6851 - acc: 0.3338 - val_loss: 1.4535 - val_acc: 0.4315\n",
            "Epoch 3/100\n",
            "5548/5548 [==============================] - 2s 430us/step - loss: 1.5682 - acc: 0.3928 - val_loss: 1.4132 - val_acc: 0.4519\n",
            "Epoch 4/100\n",
            "5548/5548 [==============================] - 2s 433us/step - loss: 1.5194 - acc: 0.4079 - val_loss: 1.3941 - val_acc: 0.4665\n",
            "Epoch 5/100\n",
            "5548/5548 [==============================] - 2s 436us/step - loss: 1.4702 - acc: 0.4306 - val_loss: 1.3358 - val_acc: 0.4913\n",
            "Epoch 6/100\n",
            "5548/5548 [==============================] - 2s 433us/step - loss: 1.4043 - acc: 0.4670 - val_loss: 1.3329 - val_acc: 0.4810\n",
            "Epoch 7/100\n",
            "5548/5548 [==============================] - 2s 435us/step - loss: 1.3530 - acc: 0.4722 - val_loss: 1.3753 - val_acc: 0.5058\n",
            "Epoch 8/100\n",
            "5548/5548 [==============================] - 2s 434us/step - loss: 1.3259 - acc: 0.4953 - val_loss: 1.3401 - val_acc: 0.5102\n",
            "Epoch 9/100\n",
            "5548/5548 [==============================] - 2s 437us/step - loss: 1.2915 - acc: 0.5164 - val_loss: 1.3121 - val_acc: 0.5146\n",
            "Epoch 10/100\n",
            "5548/5548 [==============================] - 2s 436us/step - loss: 1.2730 - acc: 0.5144 - val_loss: 1.2941 - val_acc: 0.5219\n",
            "Epoch 11/100\n",
            "5548/5548 [==============================] - 2s 435us/step - loss: 1.2243 - acc: 0.5348 - val_loss: 1.3344 - val_acc: 0.5073\n",
            "Epoch 12/100\n",
            "5548/5548 [==============================] - 2s 438us/step - loss: 1.2147 - acc: 0.5460 - val_loss: 1.3787 - val_acc: 0.5058\n",
            "Epoch 13/100\n",
            "5548/5548 [==============================] - 2s 438us/step - loss: 1.1790 - acc: 0.5589 - val_loss: 1.3620 - val_acc: 0.5117\n",
            "Epoch 14/100\n",
            "5548/5548 [==============================] - 2s 441us/step - loss: 1.1683 - acc: 0.5615 - val_loss: 1.3753 - val_acc: 0.5204\n",
            "Epoch 15/100\n",
            "5548/5548 [==============================] - 2s 440us/step - loss: 1.1307 - acc: 0.5721 - val_loss: 1.3693 - val_acc: 0.5117\n",
            "Epoch 16/100\n",
            "5548/5548 [==============================] - 2s 441us/step - loss: 1.1017 - acc: 0.5885 - val_loss: 1.3500 - val_acc: 0.5335\n",
            "Epoch 17/100\n",
            "5548/5548 [==============================] - 2s 444us/step - loss: 1.0833 - acc: 0.5952 - val_loss: 1.3622 - val_acc: 0.5306\n",
            "Epoch 18/100\n",
            "5548/5548 [==============================] - 2s 441us/step - loss: 1.0672 - acc: 0.6071 - val_loss: 1.3793 - val_acc: 0.5277\n",
            "Epoch 19/100\n",
            "5548/5548 [==============================] - 2s 443us/step - loss: 1.0386 - acc: 0.6182 - val_loss: 1.3436 - val_acc: 0.5248\n",
            "Epoch 20/100\n",
            "5548/5548 [==============================] - 2s 443us/step - loss: 1.0243 - acc: 0.6157 - val_loss: 1.4736 - val_acc: 0.5117\n",
            "Epoch 21/100\n",
            "5548/5548 [==============================] - 2s 448us/step - loss: 0.9950 - acc: 0.6316 - val_loss: 1.4312 - val_acc: 0.5117\n",
            "Epoch 22/100\n",
            "5548/5548 [==============================] - 2s 446us/step - loss: 0.9616 - acc: 0.6464 - val_loss: 1.4235 - val_acc: 0.5117\n",
            "Epoch 23/100\n",
            "5548/5548 [==============================] - 2s 449us/step - loss: 0.9723 - acc: 0.6446 - val_loss: 1.4225 - val_acc: 0.5175\n",
            "Epoch 24/100\n",
            "5548/5548 [==============================] - 2s 450us/step - loss: 0.9387 - acc: 0.6606 - val_loss: 1.4395 - val_acc: 0.5160\n",
            "Epoch 25/100\n",
            "5548/5548 [==============================] - 3s 456us/step - loss: 0.9215 - acc: 0.6619 - val_loss: 1.4809 - val_acc: 0.5087\n",
            "Epoch 26/100\n",
            "5548/5548 [==============================] - 2s 450us/step - loss: 0.9080 - acc: 0.6637 - val_loss: 1.4741 - val_acc: 0.5219\n",
            "Epoch 27/100\n",
            "5548/5548 [==============================] - 3s 453us/step - loss: 0.8894 - acc: 0.6702 - val_loss: 1.5065 - val_acc: 0.5219\n",
            "Epoch 28/100\n",
            "5548/5548 [==============================] - 3s 455us/step - loss: 0.8814 - acc: 0.6673 - val_loss: 1.4941 - val_acc: 0.5146\n",
            "Epoch 29/100\n",
            "5548/5548 [==============================] - 3s 456us/step - loss: 0.8491 - acc: 0.6889 - val_loss: 1.5228 - val_acc: 0.5248\n",
            "Epoch 30/100\n",
            "5548/5548 [==============================] - 3s 456us/step - loss: 0.8423 - acc: 0.6930 - val_loss: 1.5557 - val_acc: 0.5044\n",
            "Epoch 31/100\n",
            "5548/5548 [==============================] - 3s 458us/step - loss: 0.8481 - acc: 0.6903 - val_loss: 1.5428 - val_acc: 0.5277\n",
            "Epoch 32/100\n",
            "5548/5548 [==============================] - 3s 456us/step - loss: 0.8270 - acc: 0.7012 - val_loss: 1.5111 - val_acc: 0.5190\n",
            "Epoch 33/100\n",
            "5548/5548 [==============================] - 3s 457us/step - loss: 0.7952 - acc: 0.7094 - val_loss: 1.6225 - val_acc: 0.5160\n",
            "Epoch 34/100\n",
            "5548/5548 [==============================] - 3s 453us/step - loss: 0.7692 - acc: 0.7149 - val_loss: 1.5795 - val_acc: 0.5306\n",
            "Epoch 35/100\n",
            "5548/5548 [==============================] - 3s 455us/step - loss: 0.7764 - acc: 0.7152 - val_loss: 1.6111 - val_acc: 0.5335\n",
            "Epoch 36/100\n",
            "5548/5548 [==============================] - 3s 455us/step - loss: 0.7691 - acc: 0.7174 - val_loss: 1.6174 - val_acc: 0.5204\n",
            "Epoch 37/100\n",
            "5548/5548 [==============================] - 3s 453us/step - loss: 0.7450 - acc: 0.7329 - val_loss: 1.6047 - val_acc: 0.5248\n",
            "Epoch 38/100\n",
            "5548/5548 [==============================] - 3s 452us/step - loss: 0.7592 - acc: 0.7159 - val_loss: 1.5617 - val_acc: 0.5321\n",
            "Epoch 39/100\n",
            "5548/5548 [==============================] - 3s 454us/step - loss: 0.7270 - acc: 0.7404 - val_loss: 1.6482 - val_acc: 0.5058\n",
            "Epoch 40/100\n",
            "5548/5548 [==============================] - 3s 454us/step - loss: 0.7353 - acc: 0.7311 - val_loss: 1.6839 - val_acc: 0.5117\n",
            "Epoch 41/100\n",
            "5548/5548 [==============================] - 2s 450us/step - loss: 0.7316 - acc: 0.7284 - val_loss: 1.6316 - val_acc: 0.5117\n",
            "Epoch 42/100\n",
            "5548/5548 [==============================] - 3s 451us/step - loss: 0.7156 - acc: 0.7379 - val_loss: 1.5795 - val_acc: 0.5408\n",
            "Epoch 43/100\n",
            "5548/5548 [==============================] - 2s 450us/step - loss: 0.6984 - acc: 0.7482 - val_loss: 1.6728 - val_acc: 0.5335\n",
            "Epoch 44/100\n",
            "5548/5548 [==============================] - 2s 448us/step - loss: 0.6975 - acc: 0.7475 - val_loss: 1.6346 - val_acc: 0.5364\n",
            "Epoch 45/100\n",
            "5548/5548 [==============================] - 2s 449us/step - loss: 0.7015 - acc: 0.7439 - val_loss: 1.6587 - val_acc: 0.5321\n",
            "Epoch 46/100\n",
            "5548/5548 [==============================] - 2s 449us/step - loss: 0.6901 - acc: 0.7444 - val_loss: 1.7188 - val_acc: 0.5262\n",
            "Epoch 47/100\n",
            "5548/5548 [==============================] - 2s 449us/step - loss: 0.6804 - acc: 0.7500 - val_loss: 1.6590 - val_acc: 0.5364\n",
            "Epoch 48/100\n",
            "5548/5548 [==============================] - 3s 451us/step - loss: 0.6679 - acc: 0.7572 - val_loss: 1.7252 - val_acc: 0.5015\n",
            "Epoch 49/100\n",
            "5548/5548 [==============================] - 3s 455us/step - loss: 0.6577 - acc: 0.7615 - val_loss: 1.6503 - val_acc: 0.5350\n",
            "Epoch 50/100\n",
            "5548/5548 [==============================] - 3s 451us/step - loss: 0.6494 - acc: 0.7673 - val_loss: 1.7311 - val_acc: 0.5204\n",
            "Epoch 51/100\n",
            "5548/5548 [==============================] - 2s 447us/step - loss: 0.6238 - acc: 0.7745 - val_loss: 1.7148 - val_acc: 0.5248\n",
            "Epoch 52/100\n",
            "5548/5548 [==============================] - 2s 448us/step - loss: 0.6194 - acc: 0.7742 - val_loss: 1.6991 - val_acc: 0.5452\n",
            "Epoch 53/100\n",
            "5548/5548 [==============================] - 2s 449us/step - loss: 0.6216 - acc: 0.7698 - val_loss: 1.7680 - val_acc: 0.5292\n",
            "Epoch 54/100\n",
            "5548/5548 [==============================] - 3s 452us/step - loss: 0.6280 - acc: 0.7693 - val_loss: 1.6842 - val_acc: 0.5437\n",
            "Epoch 55/100\n",
            "5548/5548 [==============================] - 3s 452us/step - loss: 0.6082 - acc: 0.7815 - val_loss: 1.7247 - val_acc: 0.5248\n",
            "Epoch 56/100\n",
            "5548/5548 [==============================] - 2s 449us/step - loss: 0.6227 - acc: 0.7785 - val_loss: 1.7183 - val_acc: 0.5321\n",
            "Epoch 57/100\n",
            "5548/5548 [==============================] - 3s 451us/step - loss: 0.5935 - acc: 0.7846 - val_loss: 1.7873 - val_acc: 0.5364\n",
            "Epoch 58/100\n",
            "5548/5548 [==============================] - 3s 451us/step - loss: 0.5749 - acc: 0.7888 - val_loss: 1.7727 - val_acc: 0.5525\n",
            "Epoch 59/100\n",
            "5548/5548 [==============================] - 3s 455us/step - loss: 0.6012 - acc: 0.7853 - val_loss: 1.7361 - val_acc: 0.5219\n",
            "Epoch 60/100\n",
            "5548/5548 [==============================] - 3s 455us/step - loss: 0.6019 - acc: 0.7787 - val_loss: 1.7813 - val_acc: 0.5394\n",
            "Epoch 61/100\n",
            "5548/5548 [==============================] - 3s 455us/step - loss: 0.5725 - acc: 0.7898 - val_loss: 1.7439 - val_acc: 0.5175\n",
            "Epoch 62/100\n",
            "5548/5548 [==============================] - 3s 456us/step - loss: 0.5511 - acc: 0.8008 - val_loss: 1.7984 - val_acc: 0.5379\n",
            "Epoch 63/100\n",
            "5548/5548 [==============================] - 3s 458us/step - loss: 0.5678 - acc: 0.7934 - val_loss: 1.8781 - val_acc: 0.5379\n",
            "Epoch 64/100\n",
            "5548/5548 [==============================] - 3s 451us/step - loss: 0.5397 - acc: 0.8053 - val_loss: 1.8406 - val_acc: 0.5219\n",
            "Epoch 65/100\n",
            "5548/5548 [==============================] - 3s 452us/step - loss: 0.5673 - acc: 0.7925 - val_loss: 1.8535 - val_acc: 0.5306\n",
            "Epoch 66/100\n",
            "5548/5548 [==============================] - 3s 452us/step - loss: 0.5666 - acc: 0.7922 - val_loss: 1.7740 - val_acc: 0.5190\n",
            "Epoch 67/100\n",
            "5548/5548 [==============================] - 3s 453us/step - loss: 0.5364 - acc: 0.8046 - val_loss: 1.7871 - val_acc: 0.5335\n",
            "Epoch 68/100\n",
            "5548/5548 [==============================] - 3s 452us/step - loss: 0.5419 - acc: 0.7956 - val_loss: 1.8897 - val_acc: 0.5117\n",
            "Epoch 69/100\n",
            "5548/5548 [==============================] - 3s 456us/step - loss: 0.5306 - acc: 0.8064 - val_loss: 1.8172 - val_acc: 0.5364\n",
            "Epoch 70/100\n",
            "5548/5548 [==============================] - 3s 460us/step - loss: 0.5320 - acc: 0.8068 - val_loss: 1.7958 - val_acc: 0.5306\n",
            "Epoch 71/100\n",
            "5548/5548 [==============================] - 3s 451us/step - loss: 0.5124 - acc: 0.8106 - val_loss: 1.8651 - val_acc: 0.5262\n",
            "Epoch 72/100\n",
            "5548/5548 [==============================] - 3s 454us/step - loss: 0.5213 - acc: 0.8120 - val_loss: 1.8891 - val_acc: 0.5306\n",
            "Epoch 73/100\n",
            "5548/5548 [==============================] - 3s 451us/step - loss: 0.5173 - acc: 0.8133 - val_loss: 1.8479 - val_acc: 0.5248\n",
            "Epoch 74/100\n",
            "5548/5548 [==============================] - 3s 455us/step - loss: 0.4985 - acc: 0.8154 - val_loss: 1.8850 - val_acc: 0.5262\n",
            "Epoch 75/100\n",
            "5548/5548 [==============================] - 3s 451us/step - loss: 0.4931 - acc: 0.8196 - val_loss: 1.9611 - val_acc: 0.5335\n",
            "Epoch 76/100\n",
            "5548/5548 [==============================] - 2s 451us/step - loss: 0.5060 - acc: 0.8158 - val_loss: 1.9171 - val_acc: 0.5437\n",
            "Epoch 77/100\n",
            "5548/5548 [==============================] - 3s 452us/step - loss: 0.4811 - acc: 0.8270 - val_loss: 1.9640 - val_acc: 0.5248\n",
            "Epoch 78/100\n",
            "5548/5548 [==============================] - 3s 453us/step - loss: 0.4823 - acc: 0.8223 - val_loss: 2.0238 - val_acc: 0.5044\n",
            "Epoch 79/100\n",
            "5548/5548 [==============================] - 3s 454us/step - loss: 0.4939 - acc: 0.8167 - val_loss: 1.9427 - val_acc: 0.5190\n",
            "Epoch 80/100\n",
            "5548/5548 [==============================] - 2s 450us/step - loss: 0.4837 - acc: 0.8282 - val_loss: 1.9027 - val_acc: 0.5262\n",
            "Epoch 81/100\n",
            "5548/5548 [==============================] - 3s 454us/step - loss: 0.4791 - acc: 0.8244 - val_loss: 1.8882 - val_acc: 0.5073\n",
            "Epoch 82/100\n",
            "5548/5548 [==============================] - 3s 455us/step - loss: 0.4630 - acc: 0.8293 - val_loss: 2.0007 - val_acc: 0.5044\n",
            "Epoch 83/100\n",
            "5548/5548 [==============================] - 3s 451us/step - loss: 0.4702 - acc: 0.8279 - val_loss: 1.9311 - val_acc: 0.5292\n",
            "Epoch 84/100\n",
            "5548/5548 [==============================] - 3s 451us/step - loss: 0.4670 - acc: 0.8273 - val_loss: 1.9928 - val_acc: 0.5087\n",
            "Epoch 85/100\n",
            "5548/5548 [==============================] - 2s 450us/step - loss: 0.4426 - acc: 0.8401 - val_loss: 1.9975 - val_acc: 0.5204\n",
            "Epoch 86/100\n",
            "5548/5548 [==============================] - 3s 452us/step - loss: 0.4544 - acc: 0.8390 - val_loss: 1.9558 - val_acc: 0.5219\n",
            "Epoch 87/100\n",
            "5548/5548 [==============================] - 3s 456us/step - loss: 0.4629 - acc: 0.8356 - val_loss: 2.0701 - val_acc: 0.5219\n",
            "Epoch 88/100\n",
            "5548/5548 [==============================] - 3s 454us/step - loss: 0.4231 - acc: 0.8470 - val_loss: 2.0548 - val_acc: 0.5248\n",
            "Epoch 89/100\n",
            "5548/5548 [==============================] - 3s 455us/step - loss: 0.4602 - acc: 0.8311 - val_loss: 1.9782 - val_acc: 0.5146\n",
            "Epoch 90/100\n",
            "5548/5548 [==============================] - 3s 459us/step - loss: 0.4400 - acc: 0.8401 - val_loss: 2.0268 - val_acc: 0.5146\n",
            "Epoch 91/100\n",
            "5548/5548 [==============================] - 3s 453us/step - loss: 0.4200 - acc: 0.8444 - val_loss: 2.0164 - val_acc: 0.5233\n",
            "Epoch 92/100\n",
            "5548/5548 [==============================] - 3s 455us/step - loss: 0.4239 - acc: 0.8463 - val_loss: 2.0354 - val_acc: 0.5233\n",
            "Epoch 93/100\n",
            "5548/5548 [==============================] - 3s 456us/step - loss: 0.4127 - acc: 0.8495 - val_loss: 2.0819 - val_acc: 0.5190\n",
            "Epoch 94/100\n",
            "5548/5548 [==============================] - 3s 455us/step - loss: 0.4202 - acc: 0.8495 - val_loss: 2.0487 - val_acc: 0.5262\n",
            "Epoch 95/100\n",
            "5548/5548 [==============================] - 3s 451us/step - loss: 0.4180 - acc: 0.8513 - val_loss: 2.0640 - val_acc: 0.5306\n",
            "Epoch 96/100\n",
            "5548/5548 [==============================] - 3s 455us/step - loss: 0.4281 - acc: 0.8455 - val_loss: 2.0641 - val_acc: 0.5131\n",
            "Epoch 97/100\n",
            "5548/5548 [==============================] - 3s 454us/step - loss: 0.4174 - acc: 0.8495 - val_loss: 2.0081 - val_acc: 0.5219\n",
            "Epoch 98/100\n",
            "5548/5548 [==============================] - 3s 454us/step - loss: 0.4073 - acc: 0.8560 - val_loss: 2.1379 - val_acc: 0.5015\n",
            "Epoch 99/100\n",
            "5548/5548 [==============================] - 3s 454us/step - loss: 0.4235 - acc: 0.8448 - val_loss: 1.9911 - val_acc: 0.5058\n",
            "Epoch 100/100\n",
            "5548/5548 [==============================] - 3s 454us/step - loss: 0.4144 - acc: 0.8522 - val_loss: 2.1458 - val_acc: 0.5190\n"
          ],
          "name": "stdout"
        }
      ]
    },
    {
      "cell_type": "markdown",
      "metadata": {
        "id": "0MmCoU4ksp67"
      },
      "source": [
        "## 2.Predict the results"
      ]
    },
    {
      "cell_type": "code",
      "metadata": {
        "id": "cQwJ75p_WdBJ",
        "colab": {
          "base_uri": "https://localhost:8080/"
        },
        "outputId": "d8d9dcf3-7ddc-40bd-dfb6-aed4c8db2fe5"
      },
      "source": [
        "X_test_encode = np.array(pad_sequences(input_tokenizer.texts_to_sequences(X_test), maxlen=maxLength,padding=\"post\"))\n",
        "test_length = len(X_test_encode)\n",
        "\n",
        "y_predict = []\n",
        "predicted = model.predict(X_test_encode)\n",
        "for predict in predicted:\n",
        "    index2, value = max(enumerate(predict), key=operator.itemgetter(1))\n",
        "    y_predict.append(classes[index2])\n",
        "    \n",
        "print(y_predict[0])"
      ],
      "execution_count": 21,
      "outputs": [
        {
          "output_type": "stream",
          "text": [
            "Enjoyment\n"
          ],
          "name": "stdout"
        }
      ]
    },
    {
      "cell_type": "code",
      "metadata": {
        "scrolled": true,
        "id": "CWnvBNeI0joN",
        "colab": {
          "base_uri": "https://localhost:8080/"
        },
        "outputId": "f1bcebeb-99ae-46e0-eabd-50723bd5b66a"
      },
      "source": [
        "print(y_predict)"
      ],
      "execution_count": 22,
      "outputs": [
        {
          "output_type": "stream",
          "text": [
            "['Enjoyment', 'Other', 'Fear', 'Fear', 'Disgust', 'Other', 'Disgust', 'Enjoyment', 'Enjoyment', 'Sadness', 'Sadness', 'Enjoyment', 'Disgust', 'Enjoyment', 'Sadness', 'Anger', 'Other', 'Enjoyment', 'Surprise', 'Enjoyment', 'Fear', 'Other', 'Enjoyment', 'Enjoyment', 'Enjoyment', 'Disgust', 'Sadness', 'Other', 'Enjoyment', 'Other', 'Surprise', 'Other', 'Enjoyment', 'Other', 'Enjoyment', 'Enjoyment', 'Surprise', 'Disgust', 'Disgust', 'Enjoyment', 'Disgust', 'Disgust', 'Disgust', 'Other', 'Disgust', 'Enjoyment', 'Disgust', 'Sadness', 'Sadness', 'Anger', 'Other', 'Anger', 'Fear', 'Enjoyment', 'Sadness', 'Other', 'Fear', 'Fear', 'Disgust', 'Other', 'Other', 'Other', 'Other', 'Enjoyment', 'Enjoyment', 'Other', 'Fear', 'Disgust', 'Enjoyment', 'Disgust', 'Other', 'Anger', 'Enjoyment', 'Fear', 'Sadness', 'Other', 'Enjoyment', 'Sadness', 'Disgust', 'Enjoyment', 'Fear', 'Surprise', 'Enjoyment', 'Sadness', 'Fear', 'Other', 'Enjoyment', 'Fear', 'Other', 'Anger', 'Enjoyment', 'Disgust', 'Other', 'Disgust', 'Enjoyment', 'Enjoyment', 'Other', 'Disgust', 'Enjoyment', 'Disgust', 'Sadness', 'Disgust', 'Disgust', 'Disgust', 'Enjoyment', 'Enjoyment', 'Fear', 'Enjoyment', 'Other', 'Enjoyment', 'Sadness', 'Surprise', 'Disgust', 'Anger', 'Sadness', 'Other', 'Disgust', 'Anger', 'Enjoyment', 'Disgust', 'Sadness', 'Enjoyment', 'Other', 'Enjoyment', 'Enjoyment', 'Other', 'Enjoyment', 'Enjoyment', 'Sadness', 'Other', 'Other', 'Disgust', 'Fear', 'Disgust', 'Enjoyment', 'Disgust', 'Enjoyment', 'Anger', 'Enjoyment', 'Other', 'Enjoyment', 'Enjoyment', 'Other', 'Disgust', 'Enjoyment', 'Enjoyment', 'Enjoyment', 'Enjoyment', 'Disgust', 'Enjoyment', 'Other', 'Fear', 'Surprise', 'Enjoyment', 'Enjoyment', 'Disgust', 'Other', 'Enjoyment', 'Sadness', 'Sadness', 'Other', 'Fear', 'Enjoyment', 'Enjoyment', 'Enjoyment', 'Surprise', 'Enjoyment', 'Sadness', 'Enjoyment', 'Enjoyment', 'Enjoyment', 'Other', 'Surprise', 'Enjoyment', 'Other', 'Disgust', 'Enjoyment', 'Enjoyment', 'Sadness', 'Disgust', 'Disgust', 'Sadness', 'Sadness', 'Fear', 'Enjoyment', 'Surprise', 'Sadness', 'Sadness', 'Sadness', 'Enjoyment', 'Other', 'Other', 'Enjoyment', 'Enjoyment', 'Enjoyment', 'Disgust', 'Disgust', 'Enjoyment', 'Enjoyment', 'Disgust', 'Anger', 'Sadness', 'Disgust', 'Sadness', 'Enjoyment', 'Fear', 'Disgust', 'Sadness', 'Other', 'Fear', 'Other', 'Disgust', 'Disgust', 'Surprise', 'Anger', 'Enjoyment', 'Enjoyment', 'Enjoyment', 'Disgust', 'Sadness', 'Enjoyment', 'Disgust', 'Anger', 'Enjoyment', 'Other', 'Disgust', 'Fear', 'Fear', 'Enjoyment', 'Disgust', 'Other', 'Enjoyment', 'Disgust', 'Disgust', 'Fear', 'Fear', 'Sadness', 'Sadness', 'Enjoyment', 'Fear', 'Enjoyment', 'Enjoyment', 'Enjoyment', 'Fear', 'Disgust', 'Enjoyment', 'Enjoyment', 'Other', 'Other', 'Enjoyment', 'Enjoyment', 'Sadness', 'Enjoyment', 'Disgust', 'Other', 'Enjoyment', 'Sadness', 'Sadness', 'Fear', 'Other', 'Enjoyment', 'Disgust', 'Other', 'Enjoyment', 'Enjoyment', 'Disgust', 'Enjoyment', 'Disgust', 'Enjoyment', 'Enjoyment', 'Disgust', 'Enjoyment', 'Fear', 'Enjoyment', 'Other', 'Enjoyment', 'Sadness', 'Sadness', 'Other', 'Other', 'Enjoyment', 'Disgust', 'Other', 'Disgust', 'Enjoyment', 'Enjoyment', 'Sadness', 'Other', 'Disgust', 'Disgust', 'Other', 'Sadness', 'Anger', 'Enjoyment', 'Disgust', 'Enjoyment', 'Sadness', 'Surprise', 'Enjoyment', 'Surprise', 'Other', 'Other', 'Disgust', 'Other', 'Sadness', 'Disgust', 'Enjoyment', 'Sadness', 'Sadness', 'Anger', 'Disgust', 'Disgust', 'Sadness', 'Other', 'Disgust', 'Sadness', 'Disgust', 'Other', 'Anger', 'Enjoyment', 'Other', 'Enjoyment', 'Enjoyment', 'Enjoyment', 'Fear', 'Fear', 'Fear', 'Other', 'Disgust', 'Disgust', 'Disgust', 'Sadness', 'Enjoyment', 'Other', 'Disgust', 'Other', 'Enjoyment', 'Sadness', 'Disgust', 'Surprise', 'Disgust', 'Sadness', 'Enjoyment', 'Surprise', 'Other', 'Disgust', 'Disgust', 'Surprise', 'Sadness', 'Disgust', 'Disgust', 'Enjoyment', 'Disgust', 'Enjoyment', 'Disgust', 'Disgust', 'Anger', 'Other', 'Fear', 'Enjoyment', 'Other', 'Enjoyment', 'Disgust', 'Fear', 'Other', 'Disgust', 'Sadness', 'Enjoyment', 'Sadness', 'Fear', 'Enjoyment', 'Enjoyment', 'Fear', 'Enjoyment', 'Enjoyment', 'Disgust', 'Sadness', 'Fear', 'Enjoyment', 'Surprise', 'Sadness', 'Disgust', 'Disgust', 'Enjoyment', 'Fear', 'Enjoyment', 'Enjoyment', 'Sadness', 'Enjoyment', 'Enjoyment', 'Disgust', 'Enjoyment', 'Sadness', 'Fear', 'Enjoyment', 'Enjoyment', 'Other', 'Anger', 'Fear', 'Enjoyment', 'Other', 'Sadness', 'Enjoyment', 'Disgust', 'Disgust', 'Other', 'Disgust', 'Fear', 'Disgust', 'Disgust', 'Surprise', 'Enjoyment', 'Surprise', 'Enjoyment', 'Surprise', 'Fear', 'Enjoyment', 'Enjoyment', 'Disgust', 'Disgust', 'Disgust', 'Disgust', 'Enjoyment', 'Anger', 'Disgust', 'Disgust', 'Anger', 'Other', 'Disgust', 'Sadness', 'Sadness', 'Other', 'Other', 'Sadness', 'Sadness', 'Fear', 'Surprise', 'Enjoyment', 'Disgust', 'Enjoyment', 'Other', 'Enjoyment', 'Disgust', 'Other', 'Other', 'Disgust', 'Surprise', 'Enjoyment', 'Other', 'Enjoyment', 'Disgust', 'Sadness', 'Other', 'Anger', 'Enjoyment', 'Other', 'Other', 'Disgust', 'Disgust', 'Other', 'Enjoyment', 'Other', 'Other', 'Disgust', 'Sadness', 'Sadness', 'Fear', 'Disgust', 'Enjoyment', 'Enjoyment', 'Other', 'Enjoyment', 'Disgust', 'Disgust', 'Disgust', 'Other', 'Surprise', 'Other', 'Sadness', 'Fear', 'Enjoyment', 'Disgust', 'Anger', 'Disgust', 'Enjoyment', 'Other', 'Enjoyment', 'Disgust', 'Other', 'Disgust', 'Disgust', 'Enjoyment', 'Sadness', 'Enjoyment', 'Enjoyment', 'Disgust', 'Disgust', 'Other', 'Enjoyment', 'Sadness', 'Enjoyment', 'Enjoyment', 'Enjoyment', 'Sadness', 'Disgust', 'Fear', 'Sadness', 'Enjoyment', 'Enjoyment', 'Enjoyment', 'Disgust', 'Enjoyment', 'Enjoyment', 'Other', 'Enjoyment', 'Other', 'Disgust', 'Sadness', 'Other', 'Enjoyment', 'Anger', 'Sadness', 'Enjoyment', 'Disgust', 'Enjoyment', 'Disgust', 'Disgust', 'Enjoyment', 'Sadness', 'Sadness', 'Sadness', 'Other', 'Enjoyment', 'Sadness', 'Enjoyment', 'Enjoyment', 'Enjoyment', 'Other', 'Surprise', 'Anger', 'Fear', 'Sadness', 'Other', 'Other', 'Enjoyment', 'Disgust', 'Surprise', 'Disgust', 'Disgust', 'Sadness', 'Sadness', 'Surprise', 'Enjoyment', 'Anger', 'Enjoyment', 'Other', 'Sadness', 'Other', 'Enjoyment', 'Sadness', 'Enjoyment', 'Disgust', 'Enjoyment', 'Sadness', 'Enjoyment', 'Enjoyment', 'Anger', 'Sadness', 'Anger', 'Other', 'Anger', 'Sadness', 'Disgust', 'Enjoyment', 'Disgust', 'Enjoyment', 'Enjoyment', 'Disgust', 'Enjoyment', 'Enjoyment', 'Enjoyment', 'Enjoyment', 'Sadness', 'Other', 'Anger', 'Enjoyment', 'Sadness', 'Disgust', 'Sadness', 'Disgust', 'Disgust', 'Sadness', 'Other', 'Sadness', 'Anger', 'Disgust', 'Enjoyment', 'Sadness', 'Disgust', 'Sadness', 'Disgust', 'Anger', 'Enjoyment', 'Enjoyment', 'Enjoyment', 'Sadness', 'Other', 'Disgust', 'Disgust', 'Enjoyment', 'Sadness', 'Enjoyment', 'Enjoyment', 'Enjoyment', 'Enjoyment', 'Surprise', 'Enjoyment', 'Sadness', 'Anger', 'Fear', 'Enjoyment', 'Fear', 'Enjoyment', 'Disgust', 'Disgust', 'Enjoyment', 'Disgust', 'Disgust', 'Fear', 'Disgust', 'Enjoyment', 'Other', 'Disgust', 'Disgust', 'Sadness', 'Fear', 'Anger', 'Enjoyment', 'Other', 'Fear', 'Other', 'Sadness', 'Disgust', 'Disgust', 'Enjoyment', 'Other', 'Sadness', 'Other', 'Enjoyment', 'Anger', 'Anger', 'Enjoyment', 'Enjoyment', 'Anger', 'Enjoyment', 'Sadness', 'Other', 'Fear', 'Surprise', 'Enjoyment', 'Sadness', 'Disgust', 'Other', 'Disgust', 'Other', 'Enjoyment', 'Anger', 'Fear', 'Enjoyment', 'Fear', 'Sadness', 'Enjoyment', 'Enjoyment', 'Disgust', 'Enjoyment', 'Sadness', 'Enjoyment', 'Disgust', 'Disgust', 'Anger', 'Other', 'Other', 'Disgust', 'Enjoyment', 'Enjoyment', 'Disgust', 'Enjoyment', 'Other', 'Other', 'Disgust', 'Enjoyment', 'Other', 'Sadness']\n"
          ],
          "name": "stdout"
        }
      ]
    },
    {
      "cell_type": "markdown",
      "metadata": {
        "id": "7VXZOPGcs9O_"
      },
      "source": [
        "## 3.Report the performance metrics (Accuracy, F1-score...)"
      ]
    },
    {
      "cell_type": "code",
      "metadata": {
        "id": "WoEymwgf0joR",
        "colab": {
          "base_uri": "https://localhost:8080/"
        },
        "outputId": "cf56f360-600b-4b23-a5ce-4315bc1de8fe"
      },
      "source": [
        "precision = precision_score(y_test, y_predict, average='weighted')\n",
        "recall = recall_score(y_test, y_predict, average='weighted')\n",
        "f1score = f1_score(y_test, y_predict, average='micro')\n",
        "accuracy = accuracy_score(y_test, y_predict)\n",
        "\n",
        "print(\"Result model LSTM + Attention layer\")\n",
        "print(\"Results of the models\")\n",
        "print(\"Precision: \", precision)\n",
        "print(\"Recall: \", recall)\n",
        "print(\"F1-Score: \", f1score)\n",
        "print(\"Accuracy: \", accuracy)\n",
        "\n",
        "print(classification_report(y_test,y_predict))"
      ],
      "execution_count": 23,
      "outputs": [
        {
          "output_type": "stream",
          "text": [
            "Result model LSTM + Attention layer\n",
            "Results of the models\n",
            "Precision:  0.5267297485660958\n",
            "Recall:  0.5310245310245311\n",
            "F1-Score:  0.5310245310245311\n",
            "Accuracy:  0.5310245310245311\n",
            "              precision    recall  f1-score   support\n",
            "\n",
            "       Anger       0.39      0.35      0.37        40\n",
            "     Disgust       0.50      0.58      0.54       132\n",
            "   Enjoyment       0.58      0.65      0.61       193\n",
            "        Fear       0.65      0.74      0.69        46\n",
            "       Other       0.42      0.37      0.40       129\n",
            "     Sadness       0.59      0.50      0.54       116\n",
            "    Surprise       0.48      0.35      0.41        37\n",
            "\n",
            "    accuracy                           0.53       693\n",
            "   macro avg       0.52      0.51      0.51       693\n",
            "weighted avg       0.53      0.53      0.53       693\n",
            "\n"
          ],
          "name": "stdout"
        }
      ]
    },
    {
      "cell_type": "markdown",
      "metadata": {
        "id": "u2pll3z0tLDW"
      },
      "source": [
        "# VII.Enter the demo program into 1 sentence"
      ]
    },
    {
      "cell_type": "code",
      "metadata": {
        "id": "3WyndWU_0joU"
      },
      "source": [
        "def demo(str):\n",
        "  demo_pre = clean_doc(str)\n",
        "  X_demo_encode = np.array(pad_sequences(input_tokenizer.texts_to_sequences([demo_pre]), maxlen=maxLength,padding=\"post\"))\n",
        "  predicted = model.predict(X_demo_encode)\n",
        "  index2, value = max(enumerate(predicted[0]), key=operator.itemgetter(1))\n",
        "  print(str)\n",
        "  print(\"Predict the results:\", classes[index2])\n",
        "  # return classes[index2]"
      ],
      "execution_count": 26,
      "outputs": []
    },
    {
      "cell_type": "code",
      "metadata": {
        "id": "dVJw8Vi5thbF",
        "colab": {
          "base_uri": "https://localhost:8080/"
        },
        "outputId": "d7fb0879-0820-46dc-f9bf-daf4546e8b00"
      },
      "source": [
        "demo('Hôm nay tôi vui lắm đó cậu')"
      ],
      "execution_count": 27,
      "outputs": [
        {
          "output_type": "stream",
          "text": [
            "Hôm nay tôi vui lắm đó cậu\n",
            "Predict the results: Enjoyment\n"
          ],
          "name": "stdout"
        }
      ]
    }
  ]
}